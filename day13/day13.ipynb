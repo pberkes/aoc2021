{
 "cells": [
  {
   "cell_type": "code",
   "execution_count": 1,
   "metadata": {
    "ExecuteTime": {
     "end_time": "2021-12-13T05:13:11.984628Z",
     "start_time": "2021-12-13T06:13:11.800161+01:00"
    },
    "collapsed": true
   },
   "outputs": [],
   "source": [
    "import numpy as np"
   ]
  },
  {
   "cell_type": "code",
   "execution_count": 7,
   "metadata": {
    "ExecuteTime": {
     "end_time": "2021-12-13T05:14:23.685198Z",
     "start_time": "2021-12-13T06:14:23.680627+01:00"
    },
    "collapsed": false
   },
   "outputs": [],
   "source": [
    "test_input = \"\"\"\n",
    "6,10\n",
    "0,14\n",
    "9,10\n",
    "0,3\n",
    "10,4\n",
    "4,11\n",
    "6,0\n",
    "6,12\n",
    "4,1\n",
    "0,13\n",
    "10,12\n",
    "3,4\n",
    "3,0\n",
    "8,4\n",
    "1,10\n",
    "2,14\n",
    "8,10\n",
    "9,0\n",
    "\n",
    "fold along y=7\n",
    "fold along x=5\n",
    "\"\"\"\n"
   ]
  },
  {
   "cell_type": "code",
   "execution_count": 34,
   "metadata": {
    "ExecuteTime": {
     "end_time": "2021-12-13T05:20:22.758171Z",
     "start_time": "2021-12-13T06:20:22.746471+01:00"
    },
    "collapsed": false
   },
   "outputs": [
    {
     "data": {
      "text/plain": [
       "array([[ 6, 10],\n",
       "       [ 0, 14],\n",
       "       [ 9, 10],\n",
       "       [ 0,  3],\n",
       "       [10,  4],\n",
       "       [ 4, 11],\n",
       "       [ 6,  0],\n",
       "       [ 6, 12],\n",
       "       [ 4,  1],\n",
       "       [ 0, 13],\n",
       "       [10, 12],\n",
       "       [ 3,  4],\n",
       "       [ 3,  0],\n",
       "       [ 8,  4],\n",
       "       [ 1, 10],\n",
       "       [ 2, 14],\n",
       "       [ 8, 10],\n",
       "       [ 9,  0]])"
      ]
     },
     "execution_count": 34,
     "metadata": {},
     "output_type": "execute_result"
    }
   ],
   "source": [
    "dots_txt, fold_txt = test_input.strip().split('\\n\\n')\n",
    "\n",
    "def parse_positions(input_):\n",
    "    pos = []\n",
    "    for l in dots_txt.split():\n",
    "        x, y = l.split(',')\n",
    "        pos.append((int(x), int(y)))\n",
    "    return np.array(pos)\n",
    "\n",
    "dots = parse_positions(dots_txt)\n",
    "dots"
   ]
  },
  {
   "cell_type": "code",
   "execution_count": 56,
   "metadata": {
    "ExecuteTime": {
     "end_time": "2021-12-13T05:24:42.510679Z",
     "start_time": "2021-12-13T06:24:42.501438+01:00"
    },
    "collapsed": false
   },
   "outputs": [
    {
     "data": {
      "text/plain": [
       "[('y', 7), ('x', 5)]"
      ]
     },
     "execution_count": 56,
     "metadata": {},
     "output_type": "execute_result"
    }
   ],
   "source": [
    "def parse_folds(fold_txt):\n",
    "    folds = []\n",
    "    for t in fold_txt.split('\\n'):\n",
    "        d, w = t[11:].split('=')\n",
    "        folds.append((d, int(w)))\n",
    "    return folds\n",
    "\n",
    "folds = parse_folds(fold_txt)\n",
    "folds"
   ]
  },
  {
   "cell_type": "code",
   "execution_count": 54,
   "metadata": {
    "ExecuteTime": {
     "end_time": "2021-12-13T05:24:08.289323Z",
     "start_time": "2021-12-13T06:24:08.277496+01:00"
    },
    "collapsed": false
   },
   "outputs": [
    {
     "name": "stdout",
     "output_type": "stream",
     "text": [
      "...#..#..#.\n",
      "\n",
      "....#......\n",
      "\n",
      "...........\n",
      "\n",
      "#..........\n",
      "\n",
      "...#....#.#\n",
      "\n",
      "...........\n",
      "\n",
      "...........\n",
      "\n",
      "...........\n",
      "\n",
      "...........\n",
      "\n",
      "...........\n",
      "\n",
      ".#....#.##.\n",
      "\n",
      "....#......\n",
      "\n",
      "......#...#\n",
      "\n",
      "#..........\n",
      "\n",
      "#.#........\n",
      "\n"
     ]
    }
   ],
   "source": [
    "def pprint_sheet(sheet):\n",
    "    for i in range(sheet.shape[0]):\n",
    "        for j in range(sheet.shape[1]):\n",
    "            if sheet[i,j] >= 1:\n",
    "                print('#', end='')\n",
    "            else:\n",
    "                print('.', end='')\n",
    "        print('\\n')\n",
    "\n",
    "sheet = np.zeros((dots.max(axis=0)[::-1] + 1), dtype=int)\n",
    "sheet[dots[:,1], dots[:,0]] = 1\n",
    "pprint_sheet(sheet)"
   ]
  },
  {
   "cell_type": "code",
   "execution_count": 57,
   "metadata": {
    "ExecuteTime": {
     "end_time": "2021-12-13T05:24:45.075542Z",
     "start_time": "2021-12-13T06:24:45.069622+01:00"
    },
    "collapsed": false
   },
   "outputs": [
    {
     "data": {
      "text/plain": [
       "[('y', 7), ('x', 5)]"
      ]
     },
     "execution_count": 57,
     "metadata": {},
     "output_type": "execute_result"
    }
   ],
   "source": [
    "folds"
   ]
  },
  {
   "cell_type": "code",
   "execution_count": 66,
   "metadata": {
    "ExecuteTime": {
     "end_time": "2021-12-13T05:28:26.186184Z",
     "start_time": "2021-12-13T06:28:26.180768+01:00"
    },
    "collapsed": false
   },
   "outputs": [
    {
     "name": "stdout",
     "output_type": "stream",
     "text": [
      "#.##..#..#.\n",
      "\n",
      "#...#......\n",
      "\n",
      "......#...#\n",
      "\n",
      "#...#......\n",
      "\n",
      ".#.#..#.###\n",
      "\n",
      "...........\n",
      "\n",
      "...........\n",
      "\n"
     ]
    }
   ],
   "source": [
    "f = folds[0]\n",
    "s = sheet[:f[1], :] + sheet[f[1]+1:, :][::-1, :]\n",
    "pprint_sheet(s)"
   ]
  },
  {
   "cell_type": "code",
   "execution_count": 68,
   "metadata": {
    "ExecuteTime": {
     "end_time": "2021-12-13T05:28:30.073589Z",
     "start_time": "2021-12-13T06:28:30.068856+01:00"
    },
    "collapsed": false
   },
   "outputs": [
    {
     "data": {
      "text/plain": [
       "17"
      ]
     },
     "execution_count": 68,
     "metadata": {},
     "output_type": "execute_result"
    }
   ],
   "source": [
    "(s >= 1).sum()"
   ]
  },
  {
   "cell_type": "code",
   "execution_count": 76,
   "metadata": {
    "ExecuteTime": {
     "end_time": "2021-12-13T05:30:42.824705Z",
     "start_time": "2021-12-13T06:30:42.811925+01:00"
    },
    "collapsed": false
   },
   "outputs": [],
   "source": [
    "with open('input.txt', 'r') as f:\n",
    "    input_ = f.read()\n",
    "    \n",
    "dots_txt, fold_txt = input_.strip().split('\\n\\n')\n",
    "dots = parse_positions(dots_txt)\n",
    "folds = parse_folds(fold_txt)\n",
    "\n",
    "sheet = np.zeros((dots.max(axis=0)[::-1] + 1), dtype=int)\n",
    "sheet[dots[:,1], dots[:,0]] = 1"
   ]
  },
  {
   "cell_type": "code",
   "execution_count": 80,
   "metadata": {
    "ExecuteTime": {
     "end_time": "2021-12-13T05:31:35.925619Z",
     "start_time": "2021-12-13T06:31:35.907843+01:00"
    },
    "collapsed": true
   },
   "outputs": [],
   "source": [
    "s = sheet.copy()\n",
    "for f in folds:\n",
    "    if f[0] == 'y':\n",
    "        s = s[:f[1], :] + s[f[1]+1:, :][::-1, :]\n",
    "    else:\n",
    "        s = s[:, :f[1]] + s[:, f[1]+1:][:, ::-1]\n"
   ]
  },
  {
   "cell_type": "code",
   "execution_count": 81,
   "metadata": {
    "ExecuteTime": {
     "end_time": "2021-12-13T05:31:36.552619Z",
     "start_time": "2021-12-13T06:31:36.547444+01:00"
    },
    "collapsed": false
   },
   "outputs": [
    {
     "data": {
      "text/plain": [
       "99"
      ]
     },
     "execution_count": 81,
     "metadata": {},
     "output_type": "execute_result"
    }
   ],
   "source": [
    "(s >= 1).sum()"
   ]
  },
  {
   "cell_type": "code",
   "execution_count": 82,
   "metadata": {
    "ExecuteTime": {
     "end_time": "2021-12-13T05:31:40.537426Z",
     "start_time": "2021-12-13T06:31:40.531611+01:00"
    },
    "collapsed": false
   },
   "outputs": [
    {
     "name": "stdout",
     "output_type": "stream",
     "text": [
      ".##..###..#..#...##.####.###...##...##..\n",
      "\n",
      "#..#.#..#.#.#.....#.#....#..#.#..#.#..#.\n",
      "\n",
      "#..#.###..##......#.###..###..#....#....\n",
      "\n",
      "####.#..#.#.#.....#.#....#..#.#.##.#....\n",
      "\n",
      "#..#.#..#.#.#..#..#.#....#..#.#..#.#..#.\n",
      "\n",
      "#..#.###..#..#..##..#....###...###..##..\n",
      "\n"
     ]
    }
   ],
   "source": [
    "pprint_sheet(s)"
   ]
  },
  {
   "cell_type": "code",
   "execution_count": 84,
   "metadata": {
    "ExecuteTime": {
     "end_time": "2021-12-13T05:32:07.241412Z",
     "start_time": "2021-12-13T06:32:07.027281+01:00"
    },
    "collapsed": false
   },
   "outputs": [
    {
     "data": {
      "text/plain": [
       "<matplotlib.image.AxesImage at 0x7fde21439940>"
      ]
     },
     "execution_count": 84,
     "metadata": {},
     "output_type": "execute_result"
    },
    {
     "data": {
      "image/png": "[encoded data removed]",
      "text/plain": [
       "<Figure size 432x288 with 1 Axes>"
      ]
     },
     "metadata": {},
     "output_type": "display_data"
    }
   ],
   "source": [
    "%matplotlib inline\n",
    "import matplotlib.pyplot as plt\n",
    "plt.imshow(s >=1)"
   ]
  },
  {
   "cell_type": "code",
   "execution_count": null,
   "metadata": {
    "collapsed": true
   },
   "outputs": [],
   "source": []
  }
 ],
 "metadata": {
  "hide_input": false,
  "kernelspec": {
   "display_name": "Python [conda env:scratch]",
   "language": "python",
   "name": "conda-env-scratch-py"
  },
  "language_info": {
   "codemirror_mode": {
    "name": "ipython",
    "version": 3
   },
   "file_extension": ".py",
   "mimetype": "text/x-python",
   "name": "python",
   "nbconvert_exporter": "python",
   "pygments_lexer": "ipython3",
   "version": "3.5.5"
  },
  "toc": {
   "nav_menu": {
    "height": "12px",
    "width": "252px"
   },
   "navigate_menu": true,
   "number_sections": true,
   "sideBar": true,
   "threshold": 4,
   "toc_cell": false,
   "toc_section_display": "block",
   "toc_window_display": false
  }
 },
 "nbformat": 4,
 "nbformat_minor": 2
}
