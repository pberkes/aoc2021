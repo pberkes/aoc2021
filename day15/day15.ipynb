{
 "cells": [
  {
   "cell_type": "code",
   "execution_count": 1,
   "metadata": {
    "ExecuteTime": {
     "end_time": "2021-12-15T14:34:49.815510Z",
     "start_time": "2021-12-15T09:34:49.667247-05:00"
    },
    "collapsed": true
   },
   "outputs": [],
   "source": [
    "import numpy as np"
   ]
  },
  {
   "cell_type": "code",
   "execution_count": 64,
   "metadata": {
    "ExecuteTime": {
     "end_time": "2021-12-15T16:19:15.478962Z",
     "start_time": "2021-12-15T11:19:15.476212-05:00"
    },
    "collapsed": true
   },
   "outputs": [],
   "source": [
    "test_input = \"\"\"\n",
    "1163751742\n",
    "1381373672\n",
    "2136511328\n",
    "3694931569\n",
    "7463417111\n",
    "1319128137\n",
    "1359912421\n",
    "3125421639\n",
    "1293138521\n",
    "2311944581\n",
    "\"\"\".strip()"
   ]
  },
  {
   "cell_type": "code",
   "execution_count": 65,
   "metadata": {
    "ExecuteTime": {
     "end_time": "2021-12-15T16:19:15.663419Z",
     "start_time": "2021-12-15T11:19:15.660383-05:00"
    },
    "collapsed": true
   },
   "outputs": [],
   "source": [
    "with open('input.txt', 'r') as f:\n",
    "    official_input = f.read()"
   ]
  },
  {
   "cell_type": "markdown",
   "metadata": {},
   "source": [
    "# Part 1"
   ]
  },
  {
   "cell_type": "code",
   "execution_count": 98,
   "metadata": {
    "ExecuteTime": {
     "end_time": "2021-12-15T16:50:29.098767Z",
     "start_time": "2021-12-15T11:50:29.088963-05:00"
    },
    "collapsed": false
   },
   "outputs": [
    {
     "data": {
      "text/plain": [
       "array([[1, 6, 3, ..., 3, 1, 3],\n",
       "       [9, 1, 8, ..., 4, 7, 3],\n",
       "       [4, 2, 1, ..., 4, 5, 4],\n",
       "       ...,\n",
       "       [4, 2, 8, ..., 7, 1, 2],\n",
       "       [9, 2, 5, ..., 9, 1, 6],\n",
       "       [4, 5, 1, ..., 9, 9, 1]])"
      ]
     },
     "execution_count": 98,
     "metadata": {},
     "output_type": "execute_result"
    }
   ],
   "source": [
    "input_ = official_input\n",
    "cave = []\n",
    "for l in input_.splitlines():\n",
    "    row = [int(x) for x in list(l)]\n",
    "    cave.append(row)\n",
    "cave = np.array(cave)\n",
    "cave"
   ]
  },
  {
   "cell_type": "code",
   "execution_count": 100,
   "metadata": {
    "ExecuteTime": {
     "end_time": "2021-12-15T16:50:38.268522Z",
     "start_time": "2021-12-15T11:50:37.680118-05:00"
    },
    "collapsed": false
   },
   "outputs": [],
   "source": [
    "def neighbors(pos, cave_size):\n",
    "    deltas = [[+1, 0], [-1, 0], [0, +1], [0, -1]]\n",
    "    neigh = []\n",
    "    for dx, dy in deltas:\n",
    "        nx = pos[0] + dx\n",
    "        ny = pos[1] + dy\n",
    "        if nx < 0 or nx >= cave_size[0]:\n",
    "            continue\n",
    "        if ny < 0 or ny >= cave_size[1]:\n",
    "            continue\n",
    "        neigh.append((nx, ny))\n",
    "    return neigh\n",
    "\n",
    "\n",
    "def compute_min_cost(cave):\n",
    "    cave_size = cave.shape\n",
    "    start_pos = (0, 0)\n",
    "\n",
    "    pos_min_cost = {\n",
    "        start_pos: 0,\n",
    "    }\n",
    "    queue = [start_pos]\n",
    "    while len(queue) > 0:\n",
    "        pos = queue.pop()\n",
    "        pos_cost = pos_min_cost[pos]\n",
    "        for neighbor in neighbors(pos, cave_size):\n",
    "            next_cost = pos_cost + cave[neighbor[0], neighbor[1]]\n",
    "            prev_cost = pos_min_cost.get(neighbor, 9999999999999)\n",
    "            if next_cost < prev_cost:\n",
    "                pos_min_cost[neighbor] = next_cost\n",
    "                queue.insert(0, neighbor)\n",
    "    return pos_min_cost\n",
    "\n",
    "pos_min_cost = compute_min_cost(cave)"
   ]
  },
  {
   "cell_type": "code",
   "execution_count": 102,
   "metadata": {
    "ExecuteTime": {
     "end_time": "2021-12-15T16:50:47.165863Z",
     "start_time": "2021-12-15T11:50:47.161554-05:00"
    },
    "collapsed": false
   },
   "outputs": [
    {
     "data": {
      "text/plain": [
       "388"
      ]
     },
     "execution_count": 102,
     "metadata": {},
     "output_type": "execute_result"
    }
   ],
   "source": [
    "cave_size = cave.shape\n",
    "pos_min_cost[(cave_size[0] - 1, cave_size[1] - 1)]"
   ]
  },
  {
   "cell_type": "markdown",
   "metadata": {},
   "source": [
    "# Part 2"
   ]
  },
  {
   "cell_type": "code",
   "execution_count": 103,
   "metadata": {
    "ExecuteTime": {
     "end_time": "2021-12-15T16:50:51.313869Z",
     "start_time": "2021-12-15T11:50:51.303896-05:00"
    },
    "collapsed": false
   },
   "outputs": [
    {
     "data": {
      "text/plain": [
       "array([[1, 6, 3, ..., 3, 1, 3],\n",
       "       [9, 1, 8, ..., 4, 7, 3],\n",
       "       [4, 2, 1, ..., 4, 5, 4],\n",
       "       ...,\n",
       "       [4, 2, 8, ..., 7, 1, 2],\n",
       "       [9, 2, 5, ..., 9, 1, 6],\n",
       "       [4, 5, 1, ..., 9, 9, 1]])"
      ]
     },
     "execution_count": 103,
     "metadata": {},
     "output_type": "execute_result"
    }
   ],
   "source": [
    "input_ = official_input\n",
    "cave = []\n",
    "for l in input_.splitlines():\n",
    "    row = [int(x) for x in list(l)]\n",
    "    cave.append(row)\n",
    "cave = np.array(cave)\n",
    "cave"
   ]
  },
  {
   "cell_type": "code",
   "execution_count": 104,
   "metadata": {
    "ExecuteTime": {
     "end_time": "2021-12-15T16:50:53.154019Z",
     "start_time": "2021-12-15T11:50:53.143954-05:00"
    },
    "collapsed": false
   },
   "outputs": [],
   "source": [
    "full_cave = []\n",
    "i_cave = cave\n",
    "for i in range(5):\n",
    "    l = []\n",
    "    for j in range(5):\n",
    "        c = (cave - 1 + i + j) % 9 + 1\n",
    "        l.append(c)\n",
    "    full_cave.append(np.concatenate(l, axis=1))\n",
    "        \n",
    "full_cave = np.concatenate(full_cave)"
   ]
  },
  {
   "cell_type": "code",
   "execution_count": 105,
   "metadata": {
    "ExecuteTime": {
     "end_time": "2021-12-15T16:51:53.793669Z",
     "start_time": "2021-12-15T11:51:12.840889-05:00"
    },
    "collapsed": false
   },
   "outputs": [
    {
     "data": {
      "text/plain": [
       "2819"
      ]
     },
     "execution_count": 105,
     "metadata": {},
     "output_type": "execute_result"
    }
   ],
   "source": [
    "pos_min_cost = compute_min_cost(full_cave)\n",
    "cave_size = full_cave.shape\n",
    "pos_min_cost[(cave_size[0] - 1, cave_size[1] - 1)]"
   ]
  },
  {
   "cell_type": "code",
   "execution_count": null,
   "metadata": {
    "collapsed": true
   },
   "outputs": [],
   "source": []
  }
 ],
 "metadata": {
  "hide_input": false,
  "kernelspec": {
   "display_name": "Python [conda env:scratch]",
   "language": "python",
   "name": "conda-env-scratch-py"
  },
  "language_info": {
   "codemirror_mode": {
    "name": "ipython",
    "version": 3
   },
   "file_extension": ".py",
   "mimetype": "text/x-python",
   "name": "python",
   "nbconvert_exporter": "python",
   "pygments_lexer": "ipython3",
   "version": "3.5.5"
  },
  "toc": {
   "nav_menu": {
    "height": "12px",
    "width": "252px"
   },
   "navigate_menu": true,
   "number_sections": true,
   "sideBar": true,
   "threshold": 4,
   "toc_cell": false,
   "toc_section_display": "block",
   "toc_window_display": false
  }
 },
 "nbformat": 4,
 "nbformat_minor": 2
}
