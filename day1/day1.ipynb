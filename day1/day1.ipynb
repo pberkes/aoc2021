{
 "cells": [
  {
   "cell_type": "code",
   "execution_count": 14,
   "metadata": {
    "ExecuteTime": {
     "end_time": "2021-12-01T05:03:23.012342Z",
     "start_time": "2021-12-01T06:03:22.422053+01:00"
    },
    "collapsed": true
   },
   "outputs": [],
   "source": [
    "import numpy as np\n",
    "import pandas as pd"
   ]
  },
  {
   "cell_type": "markdown",
   "metadata": {},
   "source": [
    "# Part 1"
   ]
  },
  {
   "cell_type": "code",
   "execution_count": 56,
   "metadata": {
    "ExecuteTime": {
     "end_time": "2021-12-01T05:14:55.338823Z",
     "start_time": "2021-12-01T06:14:55.335958+01:00"
    },
    "collapsed": true
   },
   "outputs": [],
   "source": [
    "input_ = \"\"\"\n",
    "199\n",
    "200\n",
    "208\n",
    "210\n",
    "200\n",
    "207\n",
    "240\n",
    "269\n",
    "260\n",
    "263\n",
    "\"\"\"\n",
    "sonar_test = np.array(input_.split(), dtype=int)"
   ]
  },
  {
   "cell_type": "code",
   "execution_count": 57,
   "metadata": {
    "ExecuteTime": {
     "end_time": "2021-12-01T05:15:01.580502Z",
     "start_time": "2021-12-01T06:15:01.577264+01:00"
    },
    "collapsed": false
   },
   "outputs": [],
   "source": [
    "def n_increases(sonar):\n",
    "    return (np.diff(sonar) >= 0).sum()\n",
    "\n",
    "assert n_increases(sonar_test) == 7"
   ]
  },
  {
   "cell_type": "code",
   "execution_count": 58,
   "metadata": {
    "ExecuteTime": {
     "end_time": "2021-12-01T05:15:02.144746Z",
     "start_time": "2021-12-01T06:15:02.136140+01:00"
    },
    "collapsed": false
   },
   "outputs": [
    {
     "data": {
      "text/plain": [
       "1527"
      ]
     },
     "execution_count": 58,
     "metadata": {},
     "output_type": "execute_result"
    }
   ],
   "source": [
    "sonar = pd.read_csv('input.txt', header=None).values.squeeze()\n",
    "n_increases(sonar)"
   ]
  },
  {
   "cell_type": "markdown",
   "metadata": {},
   "source": [
    "# Part 2"
   ]
  },
  {
   "cell_type": "code",
   "execution_count": 70,
   "metadata": {
    "ExecuteTime": {
     "end_time": "2021-12-01T05:18:31.879362Z",
     "start_time": "2021-12-01T06:18:31.874384+01:00"
    },
    "collapsed": false
   },
   "outputs": [],
   "source": [
    "def n_triplet_increases(sonar):\n",
    "    s = pd.Series(sonar)\n",
    "    win_sum = s.rolling(3).sum()\n",
    "    return (win_sum.diff() > 0).sum()\n",
    "\n",
    "assert n_triplet_increases(sonar_test) == 5"
   ]
  },
  {
   "cell_type": "code",
   "execution_count": 71,
   "metadata": {
    "ExecuteTime": {
     "end_time": "2021-12-01T05:18:34.753336Z",
     "start_time": "2021-12-01T06:18:34.747827+01:00"
    },
    "collapsed": false
   },
   "outputs": [
    {
     "data": {
      "text/plain": [
       "1575"
      ]
     },
     "execution_count": 71,
     "metadata": {},
     "output_type": "execute_result"
    }
   ],
   "source": [
    "n_triplet_increases(sonar)"
   ]
  },
  {
   "cell_type": "code",
   "execution_count": null,
   "metadata": {
    "collapsed": true
   },
   "outputs": [],
   "source": []
  }
 ],
 "metadata": {
  "hide_input": false,
  "kernelspec": {
   "display_name": "Python [conda env:scratch]",
   "language": "python",
   "name": "conda-env-scratch-py"
  },
  "language_info": {
   "codemirror_mode": {
    "name": "ipython",
    "version": 3
   },
   "file_extension": ".py",
   "mimetype": "text/x-python",
   "name": "python",
   "nbconvert_exporter": "python",
   "pygments_lexer": "ipython3",
   "version": "3.5.5"
  },
  "toc": {
   "nav_menu": {
    "height": "49px",
    "width": "252px"
   },
   "navigate_menu": true,
   "number_sections": true,
   "sideBar": true,
   "threshold": 4,
   "toc_cell": false,
   "toc_section_display": "block",
   "toc_window_display": false
  }
 },
 "nbformat": 4,
 "nbformat_minor": 2
}
