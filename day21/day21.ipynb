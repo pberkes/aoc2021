{
 "cells": [
  {
   "cell_type": "code",
   "execution_count": 11,
   "metadata": {
    "ExecuteTime": {
     "end_time": "2021-12-21T10:06:50.155184Z",
     "start_time": "2021-12-21T11:06:50.148740+01:00"
    },
    "collapsed": true
   },
   "outputs": [],
   "source": [
    "def deterministic_dice():\n",
    "    i = 1\n",
    "    while True:\n",
    "        yield [i, i+1, i+2]\n",
    "        i += 3"
   ]
  },
  {
   "cell_type": "markdown",
   "metadata": {},
   "source": [
    "# Part 1"
   ]
  },
  {
   "cell_type": "code",
   "execution_count": 25,
   "metadata": {
    "ExecuteTime": {
     "end_time": "2021-12-21T10:08:28.449959Z",
     "start_time": "2021-12-21T11:08:28.433917+01:00"
    },
    "collapsed": false
   },
   "outputs": [],
   "source": [
    "score1 = 0\n",
    "score2 = 0\n",
    "\n",
    "#pos1 = 4\n",
    "#pos2 = 8\n",
    "pos1 = 7\n",
    "pos2 = 1\n",
    "\n",
    "n_rolls = 0\n",
    "dice = deterministic_dice()\n",
    "while True:\n",
    "    roll = next(dice)\n",
    "    n_rolls += 3\n",
    "    pos1 = (pos1 + sum(roll) - 1) % 10 + 1\n",
    "    score1 += pos1\n",
    "    if score1 >= 1000:\n",
    "        break\n",
    "        \n",
    "    roll = next(dice)\n",
    "    n_rolls += 3\n",
    "    pos2 = (pos2 + sum(roll) - 1) % 10 + 1\n",
    "    score2 += pos2\n",
    "    if score2 >= 1000:\n",
    "        break\n"
   ]
  },
  {
   "cell_type": "code",
   "execution_count": 26,
   "metadata": {
    "ExecuteTime": {
     "end_time": "2021-12-21T10:08:29.233503Z",
     "start_time": "2021-12-21T11:08:29.225539+01:00"
    },
    "collapsed": false
   },
   "outputs": [
    {
     "data": {
      "text/plain": [
       "684495"
      ]
     },
     "execution_count": 26,
     "metadata": {},
     "output_type": "execute_result"
    }
   ],
   "source": [
    "min(score1, score2) * n_rolls"
   ]
  },
  {
   "cell_type": "markdown",
   "metadata": {},
   "source": [
    "# Part 2"
   ]
  },
  {
   "cell_type": "code",
   "execution_count": 8,
   "metadata": {
    "ExecuteTime": {
     "end_time": "2021-12-21T11:38:05.268180Z",
     "start_time": "2021-12-21T12:38:04.560098+01:00"
    },
    "collapsed": false
   },
   "outputs": [],
   "source": [
    "from collections import defaultdict\n",
    "\n",
    "def build_players_dict():\n",
    "    count = {\n",
    "        (pos1, pos2): {}\n",
    "        for pos1 in range(1, 11)\n",
    "        for pos2 in range(1, 11)\n",
    "    }  \n",
    "    return count\n",
    "\n",
    "counts = build_players_dict()\n",
    "\n",
    "#pos1 = 4\n",
    "#pos2 = 8\n",
    "pos1 = 7\n",
    "pos2 = 1\n",
    "counts[(pos1, pos2)][(0, 0)] = 1\n",
    "win1 = 0\n",
    "win2 = 0\n",
    "\n",
    "for _ in range(10):\n",
    "    # Update pos1\n",
    "    for _ in range(3):\n",
    "        next_count = build_players_dict()\n",
    "        for option in [1, 2, 3]:\n",
    "            for (pos1, pos2), scores in counts.items():\n",
    "                next_pos1 = (pos1 + option - 1) % 10 + 1\n",
    "                for scores, n in scores.items():\n",
    "                    if scores not in next_count[(next_pos1, pos2)]:\n",
    "                        next_count[(next_pos1, pos2)][scores] = 0\n",
    "                    next_count[(next_pos1, pos2)][scores] += n\n",
    "        counts = next_count\n",
    "\n",
    "    # Update score1\n",
    "    next_count= build_players_dict()\n",
    "    for (pos1, pos2), scores in counts.items():\n",
    "        for (score1, score2), count in scores.items():\n",
    "            next_score1 = score1 + pos1\n",
    "            if next_score1 >= 21:\n",
    "                win1 = win1 + count\n",
    "                continue\n",
    "            next_count[(pos1, pos2)][(next_score1, score2)] = scores[(score1, score2)]\n",
    "    counts = next_count\n",
    "\n",
    "\n",
    "    # Update pos2\n",
    "    for _ in range(3):\n",
    "        next_count = build_players_dict()\n",
    "        for option in [1, 2, 3]:\n",
    "            for (pos1, pos2), scores in counts.items():\n",
    "                next_pos2 = (pos2 + option - 1) % 10 + 1\n",
    "                for scores, n in scores.items():\n",
    "                    if scores not in next_count[(pos1, next_pos2)]:\n",
    "                        next_count[(pos1, next_pos2)][scores] = 0\n",
    "                    next_count[(pos1, next_pos2)][scores] += n\n",
    "        counts = next_count\n",
    "\n",
    "    # Update score2\n",
    "    next_count= build_players_dict()\n",
    "    for (pos1, pos2), scores in counts.items():\n",
    "        for (score1, score2), count in scores.items():\n",
    "            next_score2 = score2 + pos2\n",
    "            if next_score2 >= 21:\n",
    "                win2 = win2 + count\n",
    "                continue\n",
    "            next_count[(pos1, pos2)][(score1, next_score2)] = scores[(score1, score2)]\n",
    "    counts = next_count\n"
   ]
  },
  {
   "cell_type": "code",
   "execution_count": 10,
   "metadata": {
    "ExecuteTime": {
     "end_time": "2021-12-21T11:38:12.707598Z",
     "start_time": "2021-12-21T12:38:12.703663+01:00"
    },
    "collapsed": false
   },
   "outputs": [
    {
     "data": {
      "text/plain": [
       "152587196649184"
      ]
     },
     "execution_count": 10,
     "metadata": {},
     "output_type": "execute_result"
    }
   ],
   "source": [
    "max(win1, win2)"
   ]
  },
  {
   "cell_type": "code",
   "execution_count": null,
   "metadata": {
    "collapsed": true
   },
   "outputs": [],
   "source": []
  }
 ],
 "metadata": {
  "hide_input": false,
  "kernelspec": {
   "display_name": "Python [conda env:scratch]",
   "language": "python",
   "name": "conda-env-scratch-py"
  },
  "toc": {
   "nav_menu": {
    "height": "49px",
    "width": "252px"
   },
   "navigate_menu": true,
   "number_sections": true,
   "sideBar": true,
   "threshold": 4,
   "toc_cell": false,
   "toc_section_display": "block",
   "toc_window_display": false
  }
 },
 "nbformat": 4,
 "nbformat_minor": 2
}
