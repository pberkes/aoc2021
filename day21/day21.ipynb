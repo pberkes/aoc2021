{
 "cells": [
  {
   "cell_type": "code",
   "execution_count": 11,
   "metadata": {
    "ExecuteTime": {
     "end_time": "2021-12-21T10:06:50.155184Z",
     "start_time": "2021-12-21T11:06:50.148740+01:00"
    },
    "collapsed": true
   },
   "outputs": [],
   "source": [
    "def deterministic_dice():\n",
    "    i = 1\n",
    "    while True:\n",
    "        yield [i, i+1, i+2]\n",
    "        i += 3"
   ]
  },
  {
   "cell_type": "markdown",
   "metadata": {},
   "source": [
    "# Part 1"
   ]
  },
  {
   "cell_type": "code",
   "execution_count": 25,
   "metadata": {
    "ExecuteTime": {
     "end_time": "2021-12-21T10:08:28.449959Z",
     "start_time": "2021-12-21T11:08:28.433917+01:00"
    },
    "collapsed": false
   },
   "outputs": [],
   "source": [
    "score1 = 0\n",
    "score2 = 0\n",
    "\n",
    "#pos1 = 4\n",
    "#pos2 = 8\n",
    "pos1 = 7\n",
    "pos2 = 1\n",
    "\n",
    "n_rolls = 0\n",
    "dice = deterministic_dice()\n",
    "while True:\n",
    "    roll = next(dice)\n",
    "    n_rolls += 3\n",
    "    pos1 = (pos1 + sum(roll) - 1) % 10 + 1\n",
    "    score1 += pos1\n",
    "    if score1 >= 1000:\n",
    "        break\n",
    "        \n",
    "    roll = next(dice)\n",
    "    n_rolls += 3\n",
    "    pos2 = (pos2 + sum(roll) - 1) % 10 + 1\n",
    "    score2 += pos2\n",
    "    if score2 >= 1000:\n",
    "        break\n"
   ]
  },
  {
   "cell_type": "code",
   "execution_count": 26,
   "metadata": {
    "ExecuteTime": {
     "end_time": "2021-12-21T10:08:29.233503Z",
     "start_time": "2021-12-21T11:08:29.225539+01:00"
    },
    "collapsed": false
   },
   "outputs": [
    {
     "data": {
      "text/plain": [
       "684495"
      ]
     },
     "execution_count": 26,
     "metadata": {},
     "output_type": "execute_result"
    }
   ],
   "source": [
    "min(score1, score2) * n_rolls"
   ]
  },
  {
   "cell_type": "markdown",
   "metadata": {},
   "source": [
    "# Part 2"
   ]
  },
  {
   "cell_type": "code",
   "execution_count": 29,
   "metadata": {
    "ExecuteTime": {
     "end_time": "2021-12-21T14:31:31.510123Z",
     "start_time": "2021-12-21T15:31:30.848434+01:00"
    },
    "collapsed": false
   },
   "outputs": [],
   "source": [
    "from collections import defaultdict\n",
    "\n",
    "def build_players_dict():\n",
    "    count = {\n",
    "        (pos1, pos2): {}\n",
    "        for pos1 in range(1, 11)\n",
    "        for pos2 in range(1, 11)\n",
    "    }  \n",
    "    return count\n",
    "\n",
    "counts = build_players_dict()\n",
    "\n",
    "#pos1 = 4\n",
    "#pos2 = 8\n",
    "pos1 = 7\n",
    "pos2 = 1\n",
    "counts[(pos1, pos2)][(0, 0)] = 1\n",
    "win1 = 0\n",
    "win2 = 0\n",
    "\n",
    "\n",
    "def update_pos(counts, idx):\n",
    "    for _ in range(3):\n",
    "        next_count = build_players_dict()\n",
    "        for option in [1, 2, 3]:\n",
    "            for positions, scores in counts.items():\n",
    "                next_pos = list(positions)\n",
    "                next_pos[idx] = (positions[idx] + option - 1) % 10 + 1\n",
    "                next_pos = tuple(next_pos)\n",
    "                for scores, n in scores.items():\n",
    "                    if scores not in next_count[next_pos]:\n",
    "                        next_count[next_pos][scores] = 0\n",
    "                    next_count[next_pos][scores] += n\n",
    "        counts = next_count\n",
    "    return counts\n",
    "\n",
    "\n",
    "def update_score(counts, idx, wins):\n",
    "    next_count = build_players_dict()\n",
    "    for positions, scores in counts.items():\n",
    "        for s, count in scores.items():\n",
    "            next_scores = list(s)\n",
    "            next_scores[idx] = s[idx] + positions[idx]\n",
    "            next_scores = tuple(next_scores)\n",
    "            if next_scores[idx] >= 21:\n",
    "                wins[idx] += count\n",
    "                continue\n",
    "            next_count[positions][next_scores] = scores[s]\n",
    "    return next_count    \n",
    "    \n",
    "\n",
    "wins = [0, 0]\n",
    "for _ in range(10):\n",
    "    counts = update_pos(counts, 0)\n",
    "    counts = update_score(counts, 0, wins)\n",
    "    counts = update_pos(counts, 1)\n",
    "    counts = update_score(counts, 1, wins)\n"
   ]
  },
  {
   "cell_type": "code",
   "execution_count": 30,
   "metadata": {
    "ExecuteTime": {
     "end_time": "2021-12-21T14:31:31.892451Z",
     "start_time": "2021-12-21T15:31:31.888035+01:00"
    },
    "collapsed": false
   },
   "outputs": [
    {
     "data": {
      "text/plain": [
       "152587196649184"
      ]
     },
     "execution_count": 30,
     "metadata": {},
     "output_type": "execute_result"
    }
   ],
   "source": [
    "max(wins)"
   ]
  },
  {
   "cell_type": "code",
   "execution_count": null,
   "metadata": {
    "collapsed": true
   },
   "outputs": [],
   "source": []
  }
 ],
 "metadata": {
  "hide_input": false,
  "kernelspec": {
   "display_name": "Python [conda env:scratch]",
   "language": "python",
   "name": "conda-env-scratch-py"
  },
  "language_info": {
   "codemirror_mode": {
    "name": "ipython",
    "version": 3
   },
   "file_extension": ".py",
   "mimetype": "text/x-python",
   "name": "python",
   "nbconvert_exporter": "python",
   "pygments_lexer": "ipython3",
   "version": "3.5.5"
  },
  "toc": {
   "nav_menu": {
    "height": "49px",
    "width": "252px"
   },
   "navigate_menu": true,
   "number_sections": true,
   "sideBar": true,
   "threshold": 4,
   "toc_cell": false,
   "toc_section_display": "block",
   "toc_window_display": false
  }
 },
 "nbformat": 4,
 "nbformat_minor": 2
}
