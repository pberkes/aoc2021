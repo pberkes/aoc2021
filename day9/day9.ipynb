{
 "cells": [
  {
   "cell_type": "code",
   "execution_count": 1,
   "metadata": {
    "ExecuteTime": {
     "end_time": "2021-12-09T06:01:05.752328Z",
     "start_time": "2021-12-09T07:01:05.590456+01:00"
    },
    "collapsed": true
   },
   "outputs": [],
   "source": [
    "import numpy as np"
   ]
  },
  {
   "cell_type": "code",
   "execution_count": 2,
   "metadata": {
    "ExecuteTime": {
     "end_time": "2021-12-09T06:01:09.403794Z",
     "start_time": "2021-12-09T07:01:09.401092+01:00"
    },
    "collapsed": true
   },
   "outputs": [],
   "source": [
    "test_input = \"\"\"\n",
    "2199943210\n",
    "3987894921\n",
    "9856789892\n",
    "8767896789\n",
    "9899965678\n",
    "\"\"\""
   ]
  },
  {
   "cell_type": "code",
   "execution_count": 103,
   "metadata": {
    "ExecuteTime": {
     "end_time": "2021-12-09T06:33:39.676725Z",
     "start_time": "2021-12-09T07:33:39.664207+01:00"
    },
    "collapsed": false
   },
   "outputs": [],
   "source": [
    "def parse_input(input_):\n",
    "    floor = np.array([list(l) for l in list(input_.strip().splitlines())], dtype=int)\n",
    "    return floor\n",
    "\n",
    "def add_borders(floor):\n",
    "    floor_ext = np.full((floor.shape[0] + 2, floor.shape[1] + 2), 9)\n",
    "    floor_ext[1:-1, 1:-1] = floor\n",
    "    return floor_ext\n",
    "\n",
    "def find_low_points(floor):\n",
    "    floor_ext = add_borders(floor)\n",
    "    diff_0 = (floor_ext[1:, :] - floor_ext[:-1, :])[:-1, 1:-1]\n",
    "    diff_1 = (floor_ext[:, 1:] - floor_ext[:, :-1])[1:-1, :-1]\n",
    "    diff_2 = (floor_ext[:-1, :] - floor_ext[1:, :])[1:, 1:-1]\n",
    "    diff_3 = (floor_ext[:, :-1] - floor_ext[:, 1:])[1:-1, 1:]\n",
    "\n",
    "    is_low_point = ((diff_0 < 0) & (diff_1 < 0) & (diff_2 < 0) & (diff_3 < 0))\n",
    "    return is_low_point\n"
   ]
  },
  {
   "cell_type": "code",
   "execution_count": 104,
   "metadata": {
    "ExecuteTime": {
     "end_time": "2021-12-09T06:33:40.653891Z",
     "start_time": "2021-12-09T07:33:40.648657+01:00"
    },
    "collapsed": false
   },
   "outputs": [
    {
     "data": {
      "text/plain": [
       "15"
      ]
     },
     "execution_count": 104,
     "metadata": {},
     "output_type": "execute_result"
    }
   ],
   "source": [
    "floor = parse_input(test_input)\n",
    "is_low_point = find_low_points(floor)\n",
    "(floor[is_low_point] + 1).sum()"
   ]
  },
  {
   "cell_type": "code",
   "execution_count": 105,
   "metadata": {
    "ExecuteTime": {
     "end_time": "2021-12-09T06:33:51.695462Z",
     "start_time": "2021-12-09T07:33:51.687046+01:00"
    },
    "collapsed": false
   },
   "outputs": [
    {
     "data": {
      "text/plain": [
       "417"
      ]
     },
     "execution_count": 105,
     "metadata": {},
     "output_type": "execute_result"
    }
   ],
   "source": [
    "with open('input.txt', 'r') as f:\n",
    "    input_ = f.read()\n",
    "    \n",
    "floor = parse_input(input_)\n",
    "is_low_point = find_low_points(floor)\n",
    "(floor[is_low_point] + 1).sum()"
   ]
  },
  {
   "cell_type": "markdown",
   "metadata": {},
   "source": [
    "# Part 2"
   ]
  },
  {
   "cell_type": "code",
   "execution_count": 107,
   "metadata": {
    "ExecuteTime": {
     "end_time": "2021-12-09T06:35:39.963509Z",
     "start_time": "2021-12-09T07:35:39.947117+01:00"
    },
    "collapsed": true
   },
   "outputs": [],
   "source": [
    "neighbors = [\n",
    "    (-1, 0),\n",
    "    (1, 0),\n",
    "    (0, -1),\n",
    "    (0, 1),\n",
    "]\n",
    "\n",
    "\n",
    "def compute_basin_sizes(floor, is_low_point):\n",
    "    floor_ext = add_borders(floor)\n",
    "    low_points_i, low_points_j = np.where(is_low_point)\n",
    "    \n",
    "    flood_floor = floor_ext.copy()\n",
    "\n",
    "    size_basins = []\n",
    "    for start_i, start_j in zip(low_points_i, low_points_j):\n",
    "        to_visit = [(start_i + 1, start_j + 1)]\n",
    "        n = 0\n",
    "        while len(to_visit) > 0:\n",
    "            i, j = to_visit.pop()\n",
    "            if flood_floor[i, j] < 9:\n",
    "                n += 1\n",
    "                flood_floor[i, j] = 10\n",
    "                for neigh_i, neigh_j in neighbors:\n",
    "                    a, b = i + neigh_i, j + neigh_j\n",
    "                    to_visit.append((a, b))\n",
    "        size_basins.append(n )\n",
    "    return size_basins"
   ]
  },
  {
   "cell_type": "code",
   "execution_count": 110,
   "metadata": {
    "ExecuteTime": {
     "end_time": "2021-12-09T06:36:18.687551Z",
     "start_time": "2021-12-09T07:36:18.682360+01:00"
    },
    "collapsed": false
   },
   "outputs": [
    {
     "data": {
      "text/plain": [
       "1134"
      ]
     },
     "execution_count": 110,
     "metadata": {},
     "output_type": "execute_result"
    }
   ],
   "source": [
    "floor = parse_input(test_input)\n",
    "is_low_point = find_low_points(floor)\n",
    "size_basins = compute_basin_sizes(floor, is_low_point)\n",
    "np.prod(sorted(size_basins)[-3:])"
   ]
  },
  {
   "cell_type": "code",
   "execution_count": 111,
   "metadata": {
    "ExecuteTime": {
     "end_time": "2021-12-09T06:36:24.955521Z",
     "start_time": "2021-12-09T07:36:24.882334+01:00"
    },
    "collapsed": false
   },
   "outputs": [
    {
     "data": {
      "text/plain": [
       "1148965"
      ]
     },
     "execution_count": 111,
     "metadata": {},
     "output_type": "execute_result"
    }
   ],
   "source": [
    "floor = parse_input(input_)\n",
    "is_low_point = find_low_points(floor)\n",
    "size_basins = compute_basin_sizes(floor, is_low_point)\n",
    "np.prod(sorted(size_basins)[-3:])"
   ]
  },
  {
   "cell_type": "code",
   "execution_count": null,
   "metadata": {
    "collapsed": true
   },
   "outputs": [],
   "source": []
  }
 ],
 "metadata": {
  "hide_input": false,
  "kernelspec": {
   "display_name": "Python [conda env:scratch]",
   "language": "python",
   "name": "conda-env-scratch-py"
  },
  "language_info": {
   "codemirror_mode": {
    "name": "ipython",
    "version": 3
   },
   "file_extension": ".py",
   "mimetype": "text/x-python",
   "name": "python",
   "nbconvert_exporter": "python",
   "pygments_lexer": "ipython3",
   "version": "3.5.5"
  },
  "toc": {
   "nav_menu": {
    "height": "31px",
    "width": "252px"
   },
   "navigate_menu": true,
   "number_sections": true,
   "sideBar": true,
   "threshold": 4,
   "toc_cell": false,
   "toc_section_display": "block",
   "toc_window_display": false
  }
 },
 "nbformat": 4,
 "nbformat_minor": 2
}
