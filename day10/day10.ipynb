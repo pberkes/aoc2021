{
 "cells": [
  {
   "cell_type": "code",
   "execution_count": 58,
   "metadata": {
    "ExecuteTime": {
     "end_time": "2021-12-10T05:17:34.871377Z",
     "start_time": "2021-12-10T06:17:34.867268+01:00"
    },
    "collapsed": true
   },
   "outputs": [],
   "source": [
    "import numpy as np\n",
    "import pandas as pd"
   ]
  },
  {
   "cell_type": "markdown",
   "metadata": {},
   "source": [
    "# Part 1"
   ]
  },
  {
   "cell_type": "code",
   "execution_count": 61,
   "metadata": {
    "ExecuteTime": {
     "end_time": "2021-12-10T05:18:07.848405Z",
     "start_time": "2021-12-10T06:18:07.840958+01:00"
    },
    "collapsed": true
   },
   "outputs": [],
   "source": [
    "points_error = {\n",
    "    ')': 3,\n",
    "    ']': 57,\n",
    "    '}': 1197,\n",
    "    '>': 25137,\n",
    "}\n",
    "\n",
    "points_close = {\n",
    "    ')': 1,\n",
    "    ']': 2,\n",
    "    '}': 3,\n",
    "    '>': 4,\n",
    "}\n",
    "\n",
    "matching = {\n",
    "    ')': '(',\n",
    "    '(': ')',\n",
    "    ']': '[',\n",
    "    '[': ']',\n",
    "    '}': '{',\n",
    "    '{': '}',\n",
    "    '>': '<',\n",
    "    '<': '>',\n",
    "}"
   ]
  },
  {
   "cell_type": "code",
   "execution_count": 62,
   "metadata": {
    "ExecuteTime": {
     "end_time": "2021-12-10T05:18:08.004069Z",
     "start_time": "2021-12-10T06:18:08.000386+01:00"
    },
    "collapsed": true
   },
   "outputs": [],
   "source": [
    "test_input = \"\"\"\n",
    "[({(<(())[]>[[{[]{<()<>>\n",
    "[(()[<>])]({[<{<<[]>>(\n",
    "{([(<{}[<>[]}>{[]{[(<()>\n",
    "(((({<>}<{<{<>}{[]{[]{}\n",
    "[[<[([]))<([[{}[[()]]]\n",
    "[{[{({}]{}}([{[{{{}}([]\n",
    "{<[[]]>}<{[{[{[]{()[[[]\n",
    "[<(<(<(<{}))><([]([]()\n",
    "<{([([[(<>()){}]>(<<{{\n",
    "<{([{{}}[<[[[<>{}]]]>[]]\n",
    "\"\"\"\n",
    "\n",
    "test_lines = test_input.strip().splitlines()"
   ]
  },
  {
   "cell_type": "code",
   "execution_count": 63,
   "metadata": {
    "ExecuteTime": {
     "end_time": "2021-12-10T05:18:53.809126Z",
     "start_time": "2021-12-10T06:18:53.800408+01:00"
    },
    "collapsed": false
   },
   "outputs": [],
   "source": [
    "def find_errors_and_correct(lines):\n",
    "    score = 0\n",
    "    correct = []\n",
    "    for line in lines:\n",
    "        stack = []\n",
    "        error = None\n",
    "        for c in line:\n",
    "            if c in '[({<':\n",
    "                stack.insert(0, c)\n",
    "            else:\n",
    "                open_ = stack.pop(0)\n",
    "                if open_ != matching[c]:\n",
    "                    error = c\n",
    "                    break\n",
    "        else:\n",
    "            correct.append(line)\n",
    "\n",
    "        if error is not None:\n",
    "            score += points[c]\n",
    "    return score, correct"
   ]
  },
  {
   "cell_type": "code",
   "execution_count": 67,
   "metadata": {
    "ExecuteTime": {
     "end_time": "2021-12-10T05:19:33.762860Z",
     "start_time": "2021-12-10T06:19:33.758499+01:00"
    },
    "collapsed": false
   },
   "outputs": [
    {
     "data": {
      "text/plain": [
       "(26397, 5)"
      ]
     },
     "execution_count": 67,
     "metadata": {},
     "output_type": "execute_result"
    }
   ],
   "source": [
    "score, test_correct = find_errors_and_correct(test_lines)\n",
    "score, len(test_correct)"
   ]
  },
  {
   "cell_type": "code",
   "execution_count": 68,
   "metadata": {
    "ExecuteTime": {
     "end_time": "2021-12-10T05:19:35.207649Z",
     "start_time": "2021-12-10T06:19:35.198416+01:00"
    },
    "collapsed": false
   },
   "outputs": [
    {
     "data": {
      "text/plain": [
       "(311895, 47)"
      ]
     },
     "execution_count": 68,
     "metadata": {},
     "output_type": "execute_result"
    }
   ],
   "source": [
    "with open('input.txt', 'r') as f:\n",
    "    input_ = f.read()\n",
    "    \n",
    "lines = input_.strip().splitlines()\n",
    "score, correct = find_errors_and_correct(lines)\n",
    "score, len(correct)"
   ]
  },
  {
   "cell_type": "markdown",
   "metadata": {},
   "source": [
    "# Part 2"
   ]
  },
  {
   "cell_type": "code",
   "execution_count": 69,
   "metadata": {
    "ExecuteTime": {
     "end_time": "2021-12-10T05:20:15.532754Z",
     "start_time": "2021-12-10T06:20:15.524933+01:00"
    },
    "collapsed": false
   },
   "outputs": [],
   "source": [
    "def compute_closing_score(correct):\n",
    "    stack = []\n",
    "    scores = []\n",
    "    for line in correct:\n",
    "        score = 0\n",
    "        for c in line:\n",
    "            if c in '[({<':\n",
    "                stack.insert(0, c)\n",
    "            else:\n",
    "                open_ = stack.pop(0)\n",
    "        while len(stack) > 0:\n",
    "            missing = matching[stack.pop(0)]\n",
    "            score = score * 5 +points_close[missing]\n",
    "        scores.append(score)\n",
    "    return scores"
   ]
  },
  {
   "cell_type": "code",
   "execution_count": 70,
   "metadata": {
    "ExecuteTime": {
     "end_time": "2021-12-10T05:20:28.193014Z",
     "start_time": "2021-12-10T06:20:28.188636+01:00"
    },
    "collapsed": false
   },
   "outputs": [
    {
     "data": {
      "text/plain": [
       "288957"
      ]
     },
     "execution_count": 70,
     "metadata": {},
     "output_type": "execute_result"
    }
   ],
   "source": [
    "scores = compute_closing_score(test_correct)\n",
    "int(np.median(scores))"
   ]
  },
  {
   "cell_type": "code",
   "execution_count": 71,
   "metadata": {
    "ExecuteTime": {
     "end_time": "2021-12-10T05:20:33.705890Z",
     "start_time": "2021-12-10T06:20:33.699035+01:00"
    },
    "collapsed": false
   },
   "outputs": [
    {
     "data": {
      "text/plain": [
       "2904180541"
      ]
     },
     "execution_count": 71,
     "metadata": {},
     "output_type": "execute_result"
    }
   ],
   "source": [
    "scores = compute_closing_score(correct)\n",
    "int(np.median(scores))"
   ]
  },
  {
   "cell_type": "code",
   "execution_count": null,
   "metadata": {
    "collapsed": true
   },
   "outputs": [],
   "source": []
  }
 ],
 "metadata": {
  "hide_input": false,
  "kernelspec": {
   "display_name": "Python [conda env:scratch]",
   "language": "python",
   "name": "conda-env-scratch-py"
  },
  "language_info": {
   "codemirror_mode": {
    "name": "ipython",
    "version": 3
   },
   "file_extension": ".py",
   "mimetype": "text/x-python",
   "name": "python",
   "nbconvert_exporter": "python",
   "pygments_lexer": "ipython3",
   "version": "3.5.5"
  },
  "toc": {
   "nav_menu": {
    "height": "49px",
    "width": "252px"
   },
   "navigate_menu": true,
   "number_sections": true,
   "sideBar": true,
   "threshold": 4,
   "toc_cell": false,
   "toc_section_display": "block",
   "toc_window_display": false
  }
 },
 "nbformat": 4,
 "nbformat_minor": 2
}
