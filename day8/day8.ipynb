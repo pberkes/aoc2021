{
 "cells": [
  {
   "cell_type": "code",
   "execution_count": 1,
   "metadata": {
    "ExecuteTime": {
     "end_time": "2021-12-08T05:27:29.375282Z",
     "start_time": "2021-12-08T06:27:29.370880+01:00"
    },
    "collapsed": true
   },
   "outputs": [],
   "source": [
    "test_input = \"\"\"\n",
    "be cfbegad cbdgef fgaecd cgeb fdcge agebfd fecdb fabcd edb | fdgacbe cefdb cefbgd gcbe\n",
    "edbfga begcd cbg gc gcadebf fbgde acbgfd abcde gfcbed gfec | fcgedb cgb dgebacf gc\n",
    "fgaebd cg bdaec gdafb agbcfd gdcbef bgcad gfac gcb cdgabef | cg cg fdcagb cbg\n",
    "fbegcd cbd adcefb dageb afcb bc aefdc ecdab fgdeca fcdbega | efabcd cedba gadfec cb\n",
    "aecbfdg fbg gf bafeg dbefa fcge gcbea fcaegb dgceab fcbdga | gecf egdcabf bgf bfgea\n",
    "fgeab ca afcebg bdacfeg cfaedg gcfdb baec bfadeg bafgc acf | gebdcfa ecba ca fadegcb\n",
    "dbcfg fgd bdegcaf fgec aegbdf ecdfab fbedc dacgb gdcebf gf | cefg dcbef fcge gbcadfe\n",
    "bdfegc cbegaf gecbf dfcage bdacg ed bedf ced adcbefg gebcd | ed bcgafe cdgba cbgef\n",
    "egadfb cdbfeg cegd fecab cgb gbdefca cg fgcdab egfdb bfceg | gbdfcae bgc cg cgb\n",
    "gcafb gcf dcaebfg ecagb gf abcdeg gaef cafbge fdbac fegbdc | fgae cfgab fg bagce\n",
    "\"\"\""
   ]
  },
  {
   "cell_type": "code",
   "execution_count": 7,
   "metadata": {
    "ExecuteTime": {
     "end_time": "2021-12-08T05:29:38.378276Z",
     "start_time": "2021-12-08T06:29:38.374481+01:00"
    },
    "collapsed": false
   },
   "outputs": [],
   "source": [
    "data = []\n",
    "for line in test_input.strip().splitlines():\n",
    "    examples_txt, values_txt = line.split('|')\n",
    "    examples = examples_txt.strip().split(' ')\n",
    "    values = values_txt.strip().split(' ')\n",
    "    data.append((examples, values))"
   ]
  },
  {
   "cell_type": "code",
   "execution_count": 10,
   "metadata": {
    "ExecuteTime": {
     "end_time": "2021-12-08T05:29:59.400385Z",
     "start_time": "2021-12-08T06:29:59.395815+01:00"
    },
    "collapsed": false
   },
   "outputs": [
    {
     "data": {
      "text/plain": [
       "(['be',\n",
       "  'cfbegad',\n",
       "  'cbdgef',\n",
       "  'fgaecd',\n",
       "  'cgeb',\n",
       "  'fdcge',\n",
       "  'agebfd',\n",
       "  'fecdb',\n",
       "  'fabcd',\n",
       "  'edb'],\n",
       " ['fdgacbe', 'cefdb', 'cefbgd', 'gcbe'])"
      ]
     },
     "execution_count": 10,
     "metadata": {},
     "output_type": "execute_result"
    }
   ],
   "source": [
    "examples, values = data[0]\n",
    "examples, values"
   ]
  },
  {
   "cell_type": "code",
   "execution_count": 13,
   "metadata": {
    "ExecuteTime": {
     "end_time": "2021-12-08T05:31:57.149229Z",
     "start_time": "2021-12-08T06:31:57.144238+01:00"
    },
    "collapsed": false
   },
   "outputs": [],
   "source": [
    "digit_to_len = {\n",
    "    1: 2,\n",
    "    4: 4,\n",
    "    7: 3,\n",
    "    8: 7,\n",
    "}\n",
    "lengths = set(digit_to_len.values())\n",
    "tot_1478 = 0\n",
    "for examples, values in data:\n",
    "    for v in values:\n",
    "        if len(v) in lengths:\n",
    "            tot_1478 += 1"
   ]
  },
  {
   "cell_type": "code",
   "execution_count": 14,
   "metadata": {
    "ExecuteTime": {
     "end_time": "2021-12-08T05:32:00.804550Z",
     "start_time": "2021-12-08T06:32:00.801078+01:00"
    },
    "collapsed": false
   },
   "outputs": [
    {
     "data": {
      "text/plain": [
       "26"
      ]
     },
     "execution_count": 14,
     "metadata": {},
     "output_type": "execute_result"
    }
   ],
   "source": [
    "tot_1478"
   ]
  },
  {
   "cell_type": "code",
   "execution_count": 15,
   "metadata": {
    "ExecuteTime": {
     "end_time": "2021-12-08T05:32:59.918807Z",
     "start_time": "2021-12-08T06:32:59.915758+01:00"
    },
    "collapsed": true
   },
   "outputs": [],
   "source": [
    "with open('input.txt', 'r') as f:\n",
    "    input_ = f.read()"
   ]
  },
  {
   "cell_type": "code",
   "execution_count": 16,
   "metadata": {
    "ExecuteTime": {
     "end_time": "2021-12-08T05:33:10.802398Z",
     "start_time": "2021-12-08T06:33:10.797795+01:00"
    },
    "collapsed": true
   },
   "outputs": [],
   "source": [
    "data = []\n",
    "for line in input_.strip().splitlines():\n",
    "    examples_txt, values_txt = line.split('|')\n",
    "    examples = examples_txt.strip().split(' ')\n",
    "    values = values_txt.strip().split(' ')\n",
    "    data.append((examples, values))"
   ]
  },
  {
   "cell_type": "code",
   "execution_count": 17,
   "metadata": {
    "ExecuteTime": {
     "end_time": "2021-12-08T05:33:20.538482Z",
     "start_time": "2021-12-08T06:33:20.533149+01:00"
    },
    "collapsed": false
   },
   "outputs": [
    {
     "data": {
      "text/plain": [
       "530"
      ]
     },
     "execution_count": 17,
     "metadata": {},
     "output_type": "execute_result"
    }
   ],
   "source": [
    "tot_1478 = 0\n",
    "for examples, values in data:\n",
    "    for v in values:\n",
    "        if len(v) in lengths:\n",
    "            tot_1478 += 1\n",
    "tot_1478"
   ]
  },
  {
   "cell_type": "markdown",
   "metadata": {},
   "source": [
    "# Part 2"
   ]
  },
  {
   "cell_type": "code",
   "execution_count": 126,
   "metadata": {
    "ExecuteTime": {
     "end_time": "2021-12-08T06:16:48.226189Z",
     "start_time": "2021-12-08T07:16:48.216116+01:00"
    },
    "collapsed": false
   },
   "outputs": [
    {
     "data": {
      "text/plain": [
       "{(1, 2, 2, 5): 2,\n",
       " (1, 3, 2, 5): 5,\n",
       " (1, 3, 2, 6): 6,\n",
       " (2, 3, 3, 5): 3,\n",
       " (2, 3, 3, 6): 0,\n",
       " (2, 4, 3, 6): 9}"
      ]
     },
     "execution_count": 126,
     "metadata": {},
     "output_type": "execute_result"
    }
   ],
   "source": [
    "# how many segments overlap with 1, 4, 7, 8?\n",
    "digit_to_overlap = {\n",
    "    0: (2, 3, 3, 6),\n",
    "    2: (1, 2, 2, 5),\n",
    "    3: (2, 3, 3, 5),\n",
    "    5: (1, 3, 2, 5),\n",
    "    6: (1, 3, 2, 6),\n",
    "    9: (2, 4, 3, 6),\n",
    "}\n",
    "\n",
    "overlap_to_digit = {v: k for k, v in digit_to_overlap.items()}\n",
    "overlap_to_digit"
   ]
  },
  {
   "cell_type": "code",
   "execution_count": 21,
   "metadata": {
    "ExecuteTime": {
     "end_time": "2021-12-08T05:36:20.432339Z",
     "start_time": "2021-12-08T06:36:20.427378+01:00"
    },
    "collapsed": false
   },
   "outputs": [],
   "source": [
    "data = []\n",
    "for line in test_input.strip().splitlines():\n",
    "    examples_txt, values_txt = line.split('|')\n",
    "    examples = examples_txt.strip().split(' ')\n",
    "    values = values_txt.strip().split(' ')\n",
    "    data.append((examples, values))"
   ]
  },
  {
   "cell_type": "code",
   "execution_count": 178,
   "metadata": {
    "ExecuteTime": {
     "end_time": "2021-12-08T06:26:34.982321Z",
     "start_time": "2021-12-08T07:26:34.962869+01:00"
    },
    "collapsed": true
   },
   "outputs": [],
   "source": [
    "def overlap(s1, s2):\n",
    "    return len(set(s1).intersection(s2))\n",
    "\n",
    "\n",
    "def sorted_str(s):\n",
    "    return ''.join(sorted(s))\n",
    "\n",
    "\n",
    "def build_rosetta_stone(examples):\n",
    "    # identify 1, 4, 7, 8\n",
    "    examples_by_len = sorted(examples, key=len)\n",
    "    rosetta_stone = {\n",
    "        1: examples_by_len[0], \n",
    "        4: examples_by_len[2], \n",
    "        7: examples_by_len[1], \n",
    "        8: examples_by_len[-1]\n",
    "    }\n",
    "\n",
    "    # compute overlaps\n",
    "    examples_left = set(examples) - set(rosetta_stone.values())\n",
    "    patterns_1478 = [rosetta_stone[x] for x in [1, 4, 7, 8]]\n",
    "    # overlaps\n",
    "    overlaps = {e: tuple(overlap(e, s) for s in patterns_1478) for e in examples_left}\n",
    "\n",
    "    # translate overlaps to digits\n",
    "    digits = {overlap_to_digit[o]: e for e, o in overlaps.items()}\n",
    "    rosetta_stone.update(digits)\n",
    "    return rosetta_stone\n",
    "\n",
    "\n",
    "def translate_values(values, rosetta_stone):\n",
    "    rosetta_stone_inv = {sorted_str(v): str(k) for k, v in rosetta_stone.items()}\n",
    "    value = int(''.join([rosetta_stone_inv[sorted_str(v)] for v in values]))\n",
    "    return value"
   ]
  },
  {
   "cell_type": "code",
   "execution_count": 180,
   "metadata": {
    "ExecuteTime": {
     "end_time": "2021-12-08T06:27:01.613359Z",
     "start_time": "2021-12-08T07:27:01.609271+01:00"
    },
    "collapsed": false
   },
   "outputs": [
    {
     "name": "stdout",
     "output_type": "stream",
     "text": [
      "8394\n",
      "9781\n",
      "1197\n",
      "9361\n",
      "4873\n",
      "8418\n",
      "4548\n",
      "1625\n",
      "8717\n",
      "4315\n"
     ]
    }
   ],
   "source": [
    "expected = [8394, 9781, 1197, 9361, 4873, 8418, 4548, 1625, 8717, 4315]\n",
    "for examples, values in data:\n",
    "    rosetta_stone = build_rosetta_stone(examples)\n",
    "    print(translate_values(values, rosetta_stone))"
   ]
  },
  {
   "cell_type": "code",
   "execution_count": 184,
   "metadata": {
    "ExecuteTime": {
     "end_time": "2021-12-08T06:28:11.855284Z",
     "start_time": "2021-12-08T07:28:11.848178+01:00"
    },
    "collapsed": true
   },
   "outputs": [],
   "source": [
    "with open('input.txt', 'r') as f:\n",
    "    input_ = f.read()\n",
    "\n",
    "data = []\n",
    "for line in input_.strip().splitlines():\n",
    "    examples_txt, values_txt = line.split('|')\n",
    "    examples = examples_txt.strip().split(' ')\n",
    "    values = values_txt.strip().split(' ')\n",
    "    data.append((examples, values))"
   ]
  },
  {
   "cell_type": "code",
   "execution_count": 185,
   "metadata": {
    "ExecuteTime": {
     "end_time": "2021-12-08T06:28:12.305574Z",
     "start_time": "2021-12-08T07:28:12.302247+01:00"
    },
    "collapsed": false
   },
   "outputs": [
    {
     "data": {
      "text/plain": [
       "200"
      ]
     },
     "execution_count": 185,
     "metadata": {},
     "output_type": "execute_result"
    }
   ],
   "source": [
    "len(data)"
   ]
  },
  {
   "cell_type": "code",
   "execution_count": 186,
   "metadata": {
    "ExecuteTime": {
     "end_time": "2021-12-08T06:28:13.567244Z",
     "start_time": "2021-12-08T07:28:13.550588+01:00"
    },
    "collapsed": true
   },
   "outputs": [],
   "source": [
    "sum_ = 0\n",
    "for examples, values in data:\n",
    "    rosetta_stone = build_rosetta_stone(examples)\n",
    "    sum_ += translate_values(values, rosetta_stone)"
   ]
  },
  {
   "cell_type": "code",
   "execution_count": 187,
   "metadata": {
    "ExecuteTime": {
     "end_time": "2021-12-08T06:28:14.146709Z",
     "start_time": "2021-12-08T07:28:14.143322+01:00"
    },
    "collapsed": false
   },
   "outputs": [
    {
     "data": {
      "text/plain": [
       "1051087"
      ]
     },
     "execution_count": 187,
     "metadata": {},
     "output_type": "execute_result"
    }
   ],
   "source": [
    "sum_"
   ]
  },
  {
   "cell_type": "code",
   "execution_count": null,
   "metadata": {
    "collapsed": true
   },
   "outputs": [],
   "source": []
  },
  {
   "cell_type": "code",
   "execution_count": null,
   "metadata": {
    "collapsed": true
   },
   "outputs": [],
   "source": []
  }
 ],
 "metadata": {
  "hide_input": false,
  "kernelspec": {
   "display_name": "Python [conda env:scratch]",
   "language": "python",
   "name": "conda-env-scratch-py"
  },
  "language_info": {
   "codemirror_mode": {
    "name": "ipython",
    "version": 3
   },
   "file_extension": ".py",
   "mimetype": "text/x-python",
   "name": "python",
   "nbconvert_exporter": "python",
   "pygments_lexer": "ipython3",
   "version": "3.5.5"
  },
  "toc": {
   "nav_menu": {
    "height": "31px",
    "width": "252px"
   },
   "navigate_menu": true,
   "number_sections": true,
   "sideBar": true,
   "threshold": 4,
   "toc_cell": false,
   "toc_section_display": "block",
   "toc_window_display": false
  }
 },
 "nbformat": 4,
 "nbformat_minor": 2
}
