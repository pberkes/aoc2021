{
 "cells": [
  {
   "cell_type": "markdown",
   "metadata": {},
   "source": [
    "# Part 1"
   ]
  },
  {
   "cell_type": "code",
   "execution_count": 51,
   "metadata": {
    "ExecuteTime": {
     "end_time": "2021-12-06T05:32:45.884243Z",
     "start_time": "2021-12-06T06:32:45.880792+01:00"
    },
    "collapsed": true
   },
   "outputs": [],
   "source": [
    "test_input = '3,4,3,1,2'\n",
    "fishes = [int(x) for x in test_input.split(',')]"
   ]
  },
  {
   "cell_type": "code",
   "execution_count": 52,
   "metadata": {
    "ExecuteTime": {
     "end_time": "2021-12-06T05:32:46.013423Z",
     "start_time": "2021-12-06T06:32:46.008875+01:00"
    },
    "collapsed": false
   },
   "outputs": [
    {
     "data": {
      "text/plain": [
       "[3, 4, 3, 1, 2]"
      ]
     },
     "execution_count": 52,
     "metadata": {},
     "output_type": "execute_result"
    }
   ],
   "source": [
    "fishes"
   ]
  },
  {
   "cell_type": "code",
   "execution_count": 53,
   "metadata": {
    "ExecuteTime": {
     "end_time": "2021-12-06T05:32:46.411373Z",
     "start_time": "2021-12-06T06:32:46.377552+01:00"
    },
    "collapsed": false
   },
   "outputs": [
    {
     "data": {
      "text/plain": [
       "5934"
      ]
     },
     "execution_count": 53,
     "metadata": {},
     "output_type": "execute_result"
    }
   ],
   "source": [
    "def fish_next_generation(fishes):\n",
    "    next_gen_fishes = []\n",
    "    for fish in fishes:\n",
    "        next_gen = fish - 1\n",
    "        if next_gen < 0:\n",
    "            next_gen_fishes.extend([6, 8])\n",
    "        else:\n",
    "            next_gen_fishes.append(next_gen)\n",
    "    return next_gen_fishes\n",
    "\n",
    "\n",
    "for i in range(80):\n",
    "    fishes = fish_next_generation(fishes)\n",
    "\n",
    "len(fishes)"
   ]
  },
  {
   "cell_type": "code",
   "execution_count": 54,
   "metadata": {
    "ExecuteTime": {
     "end_time": "2021-12-06T05:32:58.216040Z",
     "start_time": "2021-12-06T06:32:56.777580+01:00"
    },
    "collapsed": false
   },
   "outputs": [
    {
     "data": {
      "text/plain": [
       "374994"
      ]
     },
     "execution_count": 54,
     "metadata": {},
     "output_type": "execute_result"
    }
   ],
   "source": [
    "with open('input.txt', 'r') as f:\n",
    "    input_ = f.read()\n",
    "    \n",
    "fishes = [int(x) for x in input_.split(',')]\n",
    "\n",
    "for i in range(80):\n",
    "    fishes = fish_next_generation(fishes)\n",
    "\n",
    "len(fishes)"
   ]
  },
  {
   "cell_type": "markdown",
   "metadata": {},
   "source": [
    "# Part 2"
   ]
  },
  {
   "cell_type": "code",
   "execution_count": 21,
   "metadata": {
    "ExecuteTime": {
     "end_time": "2021-12-06T05:22:02.752293Z",
     "start_time": "2021-12-06T06:22:02.748997+01:00"
    },
    "collapsed": true
   },
   "outputs": [],
   "source": [
    "from collections import Counter\n",
    "\n",
    "fishes = [int(x) for x in test_input.split(',')]\n",
    "fishes_timer_to_count = Counter(fishes)"
   ]
  },
  {
   "cell_type": "code",
   "execution_count": 22,
   "metadata": {
    "ExecuteTime": {
     "end_time": "2021-12-06T05:22:05.129374Z",
     "start_time": "2021-12-06T06:22:05.125153+01:00"
    },
    "collapsed": false
   },
   "outputs": [
    {
     "data": {
      "text/plain": [
       "Counter({1: 1, 2: 1, 3: 2, 4: 1})"
      ]
     },
     "execution_count": 22,
     "metadata": {},
     "output_type": "execute_result"
    }
   ],
   "source": [
    "fishes_timer_to_count"
   ]
  },
  {
   "cell_type": "code",
   "execution_count": 45,
   "metadata": {
    "ExecuteTime": {
     "end_time": "2021-12-06T05:31:27.373985Z",
     "start_time": "2021-12-06T06:31:27.370457+01:00"
    },
    "collapsed": false
   },
   "outputs": [
    {
     "data": {
      "text/plain": [
       "[3, 4, 3, 1, 2]"
      ]
     },
     "execution_count": 45,
     "metadata": {},
     "output_type": "execute_result"
    }
   ],
   "source": [
    "fishes"
   ]
  },
  {
   "cell_type": "code",
   "execution_count": 46,
   "metadata": {
    "ExecuteTime": {
     "end_time": "2021-12-06T05:31:40.366608Z",
     "start_time": "2021-12-06T06:31:40.354167+01:00"
    },
    "collapsed": false
   },
   "outputs": [
    {
     "data": {
      "text/plain": [
       "26984457539"
      ]
     },
     "execution_count": 46,
     "metadata": {},
     "output_type": "execute_result"
    }
   ],
   "source": [
    "from collections import defaultdict\n",
    "\n",
    "def fish_next_generation(fishes_timer_to_count):\n",
    "    next_gen_fishes = defaultdict(int)\n",
    "    for age, count in fishes_timer_to_count.items():\n",
    "        next_age = age - 1\n",
    "        if next_age < 0:\n",
    "            next_gen_fishes[6] += count\n",
    "            next_gen_fishes[8] += count\n",
    "        else:\n",
    "            next_gen_fishes[next_age] += count\n",
    "    return next_gen_fishes\n",
    "\n",
    "fishes = [int(x) for x in test_input.split(',')]\n",
    "fishes_timer_to_count = Counter(fishes)\n",
    "for i in range(256):\n",
    "    fishes_timer_to_count = fish_next_generation(fishes_timer_to_count)\n",
    "    \n",
    "sum(fishes_timer_to_count.values())"
   ]
  },
  {
   "cell_type": "code",
   "execution_count": 48,
   "metadata": {
    "ExecuteTime": {
     "end_time": "2021-12-06T05:31:50.360877Z",
     "start_time": "2021-12-06T06:31:50.353792+01:00"
    },
    "collapsed": false
   },
   "outputs": [
    {
     "data": {
      "text/plain": [
       "1686252324092"
      ]
     },
     "execution_count": 48,
     "metadata": {},
     "output_type": "execute_result"
    }
   ],
   "source": [
    "fishes = [int(x) for x in input_.split(',')]\n",
    "fishes_timer_to_count = Counter(fishes)\n",
    "for i in range(256):\n",
    "    fishes_timer_to_count = fish_next_generation(fishes_timer_to_count)\n",
    "    \n",
    "sum(next_gen_fishes.values())"
   ]
  },
  {
   "cell_type": "code",
   "execution_count": null,
   "metadata": {
    "collapsed": true
   },
   "outputs": [],
   "source": []
  }
 ],
 "metadata": {
  "hide_input": false,
  "kernelspec": {
   "display_name": "Python [conda env:scratch]",
   "language": "python",
   "name": "conda-env-scratch-py"
  },
  "language_info": {
   "codemirror_mode": {
    "name": "ipython",
    "version": 3
   },
   "file_extension": ".py",
   "mimetype": "text/x-python",
   "name": "python",
   "nbconvert_exporter": "python",
   "pygments_lexer": "ipython3",
   "version": "3.5.5"
  },
  "toc": {
   "nav_menu": {
    "height": "48px",
    "width": "252px"
   },
   "navigate_menu": true,
   "number_sections": true,
   "sideBar": true,
   "threshold": 4,
   "toc_cell": false,
   "toc_section_display": "block",
   "toc_window_display": false
  }
 },
 "nbformat": 4,
 "nbformat_minor": 2
}
