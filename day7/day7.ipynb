{
 "cells": [
  {
   "cell_type": "code",
   "execution_count": 1,
   "metadata": {
    "ExecuteTime": {
     "end_time": "2021-12-07T05:10:12.358064Z",
     "start_time": "2021-12-07T06:10:12.206447+01:00"
    },
    "collapsed": true
   },
   "outputs": [],
   "source": [
    "import numpy as np"
   ]
  },
  {
   "cell_type": "code",
   "execution_count": 2,
   "metadata": {
    "ExecuteTime": {
     "end_time": "2021-12-07T05:10:35.233024Z",
     "start_time": "2021-12-07T06:10:35.229713+01:00"
    },
    "collapsed": true
   },
   "outputs": [],
   "source": [
    "test_input = '16,1,2,0,4,2,7,1,2,14'\n",
    "positions = np.array([int(x) for x in test_input.split(',')])"
   ]
  },
  {
   "cell_type": "code",
   "execution_count": 5,
   "metadata": {
    "ExecuteTime": {
     "end_time": "2021-12-07T05:12:12.727999Z",
     "start_time": "2021-12-07T06:12:12.721418+01:00"
    },
    "collapsed": false
   },
   "outputs": [
    {
     "name": "stdout",
     "output_type": "stream",
     "text": [
      "37 37\n",
      "41 41\n",
      "39 39\n",
      "71 71\n"
     ]
    }
   ],
   "source": [
    "def fuel_consumption(positions, pos):\n",
    "    return np.abs(positions - pos).sum()\n",
    "\n",
    "\n",
    "cases = [\n",
    "    (2, 37),\n",
    "    (1, 41),\n",
    "    (3, 39),\n",
    "    (10, 71),\n",
    "]\n",
    "\n",
    "for pos, expected in cases:\n",
    "    print(fuel_consumption(positions, pos), expected)"
   ]
  },
  {
   "cell_type": "code",
   "execution_count": 6,
   "metadata": {
    "ExecuteTime": {
     "end_time": "2021-12-07T05:12:28.235062Z",
     "start_time": "2021-12-07T06:12:28.231913+01:00"
    },
    "collapsed": true
   },
   "outputs": [],
   "source": [
    "with open('input.txt', 'r') as f:\n",
    "    input_ = f.read()"
   ]
  },
  {
   "cell_type": "code",
   "execution_count": 11,
   "metadata": {
    "ExecuteTime": {
     "end_time": "2021-12-07T05:13:39.744660Z",
     "start_time": "2021-12-07T06:13:39.726639+01:00"
    },
    "collapsed": false
   },
   "outputs": [
    {
     "data": {
      "text/plain": [
       "352331"
      ]
     },
     "execution_count": 11,
     "metadata": {},
     "output_type": "execute_result"
    }
   ],
   "source": [
    "positions = np.array([int(x) for x in input_.split(',')])\n",
    "np.min(list(fuel_consumption(positions, pos) for pos in range(0, positions.max())))"
   ]
  },
  {
   "cell_type": "markdown",
   "metadata": {},
   "source": [
    "# Part 2"
   ]
  },
  {
   "cell_type": "code",
   "execution_count": 16,
   "metadata": {
    "ExecuteTime": {
     "end_time": "2021-12-07T05:17:26.298043Z",
     "start_time": "2021-12-07T06:17:25.429974+01:00"
    },
    "collapsed": false
   },
   "outputs": [
    {
     "name": "stdout",
     "output_type": "stream",
     "text": [
      "168 168\n",
      "206 206\n"
     ]
    }
   ],
   "source": [
    "fuel_cost = {i: sum(range(i + 1)) for i in range(0, 10000)}\n",
    "\n",
    "def fuel_consumption(positions, pos):\n",
    "    return sum(fuel_cost[x] for x in np.abs(positions - pos))\n",
    "\n",
    "cases = [\n",
    "    (5, 168),\n",
    "    (2, 206),\n",
    "]\n",
    "\n",
    "positions = np.array([int(x) for x in test_input.split(',')])\n",
    "for pos, expected in cases:\n",
    "    print(fuel_consumption(positions, pos), expected)"
   ]
  },
  {
   "cell_type": "code",
   "execution_count": 17,
   "metadata": {
    "ExecuteTime": {
     "end_time": "2021-12-07T05:17:27.052360Z",
     "start_time": "2021-12-07T06:17:26.300094+01:00"
    },
    "collapsed": false
   },
   "outputs": [
    {
     "data": {
      "text/plain": [
       "99266250"
      ]
     },
     "execution_count": 17,
     "metadata": {},
     "output_type": "execute_result"
    }
   ],
   "source": [
    "positions = np.array([int(x) for x in input_.split(',')])\n",
    "np.min(list(fuel_consumption(positions, pos) for pos in range(0, positions.max())))"
   ]
  },
  {
   "cell_type": "code",
   "execution_count": null,
   "metadata": {
    "collapsed": true
   },
   "outputs": [],
   "source": []
  }
 ],
 "metadata": {
  "hide_input": false,
  "kernelspec": {
   "display_name": "Python [conda env:scratch]",
   "language": "python",
   "name": "conda-env-scratch-py"
  },
  "language_info": {
   "codemirror_mode": {
    "name": "ipython",
    "version": 3
   },
   "file_extension": ".py",
   "mimetype": "text/x-python",
   "name": "python",
   "nbconvert_exporter": "python",
   "pygments_lexer": "ipython3",
   "version": "3.5.5"
  },
  "toc": {
   "nav_menu": {
    "height": "30px",
    "width": "252px"
   },
   "navigate_menu": true,
   "number_sections": true,
   "sideBar": true,
   "threshold": 4,
   "toc_cell": false,
   "toc_section_display": "block",
   "toc_window_display": false
  }
 },
 "nbformat": 4,
 "nbformat_minor": 2
}
