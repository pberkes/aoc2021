{
 "cells": [
  {
   "cell_type": "code",
   "execution_count": 361,
   "metadata": {
    "ExecuteTime": {
     "end_time": "2021-12-19T17:18:41.178990Z",
     "start_time": "2021-12-19T18:18:41.175855+01:00"
    },
    "collapsed": true
   },
   "outputs": [],
   "source": [
    "import numpy as np"
   ]
  },
  {
   "cell_type": "code",
   "execution_count": 363,
   "metadata": {
    "ExecuteTime": {
     "end_time": "2021-12-19T17:19:08.878408Z",
     "start_time": "2021-12-19T18:19:08.838333+01:00"
    },
    "collapsed": false
   },
   "outputs": [
    {
     "data": {
      "text/plain": [
       "node<[[[[[9, 8], 1], 2], 3], 4]>"
      ]
     },
     "execution_count": 363,
     "metadata": {},
     "output_type": "execute_result"
    }
   ],
   "source": [
    "def print_tree(n):\n",
    "    if n.value is None:\n",
    "        l = print_tree(n.left)\n",
    "        r = print_tree(n.right)\n",
    "        return '[{}, {}]'.format(l, r)\n",
    "    else:\n",
    "        return str(n.value)\n",
    "\n",
    "\n",
    "class Node:\n",
    "    def __init__(self, parent):\n",
    "        self.parent = parent\n",
    "        self.left = None\n",
    "        self.right = None\n",
    "        self.value = None\n",
    "        \n",
    "    def __repr__(self):\n",
    "        if not self.value is None:\n",
    "            return 'node<{}>'.format(self.value)\n",
    "        return 'node<{}>'.format(print_tree(self))\n",
    "\n",
    "\n",
    "def build_tree(x, parent=None):\n",
    "    n = Node(parent)\n",
    "    l, r = x[0], x[1]\n",
    "\n",
    "    if type(l) is list:\n",
    "        l = build_tree(l, n)\n",
    "    else:\n",
    "        x = Node(n)\n",
    "        x.value = l\n",
    "        l = x\n",
    "    if type(r) is list:\n",
    "        r = build_tree(r, n)\n",
    "    else:\n",
    "        x = Node(n)\n",
    "        x.value = r\n",
    "        r = x\n",
    "    n.left = l\n",
    "    n.right = r\n",
    "    return n\n",
    "\n",
    "    \n",
    "t = build_tree([[[[[9,8],1],2],3],4])\n",
    "t"
   ]
  },
  {
   "cell_type": "code",
   "execution_count": 364,
   "metadata": {
    "ExecuteTime": {
     "end_time": "2021-12-19T17:19:26.166136Z",
     "start_time": "2021-12-19T18:19:26.141197+01:00"
    },
    "collapsed": false
   },
   "outputs": [
    {
     "data": {
      "text/plain": [
       "node<[[[[0, 9], 2], 3], 4]>"
      ]
     },
     "execution_count": 364,
     "metadata": {},
     "output_type": "execute_result"
    }
   ],
   "source": [
    "def find_explode(n, d=0, prev=None, next_=None, exploded=None):\n",
    "    if n.value is None:\n",
    "        if exploded is None and d == 4:\n",
    "            #print('explode', n)\n",
    "            return prev, next_, n\n",
    "\n",
    "        #print('e', exploded)\n",
    "        prev, next_, exploded = find_explode(n.left, d+1, prev, next_, exploded)\n",
    "        prev, next_, exploded = find_explode(n.right, d+1, prev, next_, exploded)\n",
    "    else:\n",
    "        #print(n)\n",
    "        if exploded is None:\n",
    "            prev = n\n",
    "            #print('prev', prev, exploded)\n",
    "        elif next_ is None:\n",
    "            next_ = n\n",
    "            #print('next', next_)\n",
    "    return prev, next_, exploded\n",
    "\n",
    "def explode(prev, next_, exploded):\n",
    "    if not prev is None:\n",
    "        prev.value += exploded.left.value\n",
    "    if not next_ is None:\n",
    "        next_.value += exploded.right.value\n",
    "    exploded.left = None\n",
    "    exploded.right = None\n",
    "    exploded.value = 0\n",
    "    \n",
    "\n",
    "t = build_tree([[[[[9,8],1],2],3],4])\n",
    "#t = build_tree([7,[6,[5,[4,[3,2]]]]])\n",
    "#t = build_tree([[6,[5,[4,[3,2]]]],1])\n",
    "#t = build_tree([[3,[2,[1,[7,3]]]],[6,[5,[4,[3,2]]]]])\n",
    "#t = build_tree([[3,[2,[8,0]]],[9,[5,[4,[3,2]]]]])\n",
    "#t = build_tree([[[[[1, 1], [2, 2]], [3, 3]], [4, 4]], [5, 5]])\n",
    "#t = build_tree([[[[0, [4, 5]], [0, 0]], [[[4, 5], [2, 6]], [9, 5]]], [7, [[[3, 7], [4, 3]], [[6, 3], [8, 8]]]]])\n",
    "prev, next_, exploded = find_explode(t)\n",
    "if exploded is not None:\n",
    "    explode(prev, next_, exploded)\n",
    "t"
   ]
  },
  {
   "cell_type": "code",
   "execution_count": 365,
   "metadata": {
    "ExecuteTime": {
     "end_time": "2021-12-19T17:19:29.069696Z",
     "start_time": "2021-12-19T18:19:29.045583+01:00"
    },
    "collapsed": false
   },
   "outputs": [
    {
     "data": {
      "text/plain": [
       "node<[[3, [2, [8, 0]]], [[6, 6], [5, [4, [3, 2]]]]]>"
      ]
     },
     "execution_count": 365,
     "metadata": {},
     "output_type": "execute_result"
    }
   ],
   "source": [
    "def find_split(n):\n",
    "    if not n.value is None:\n",
    "        if n.value >= 10:\n",
    "            return n\n",
    "    else:\n",
    "        if not n.left is None:\n",
    "            splitted = find_split(n.left)\n",
    "            if splitted is not None:\n",
    "                return splitted\n",
    "        if not n.right is None:\n",
    "            splitted = find_split(n.right)\n",
    "            if splitted is not None:\n",
    "                return splitted\n",
    "\n",
    "def split(n):\n",
    "    left = n.value // 2\n",
    "    right = n.value - left\n",
    "    \n",
    "    n.value = None\n",
    "    n.left = Node(n)\n",
    "    n.left.value = left\n",
    "    n.right = Node(n)\n",
    "    n.right.value = right\n",
    "\n",
    "t = build_tree([[3,[2,[8,0]]],[12,[5,[4,[3,2]]]]])\n",
    "splitted = find_split(t)\n",
    "if not splitted is None:\n",
    "    split(splitted)\n",
    "t"
   ]
  },
  {
   "cell_type": "code",
   "execution_count": 381,
   "metadata": {
    "ExecuteTime": {
     "end_time": "2021-12-19T17:21:51.512089Z",
     "start_time": "2021-12-19T18:21:51.501552+01:00"
    },
    "collapsed": false
   },
   "outputs": [
    {
     "data": {
      "text/plain": [
       "node<[[[[0, 7], 4], [[7, 8], [6, 0]]], [8, 1]]>"
      ]
     },
     "execution_count": 381,
     "metadata": {},
     "output_type": "execute_result"
    }
   ],
   "source": [
    "def reduce(t):\n",
    "    while True:\n",
    "        #print(t)\n",
    "        prev, next_, exploded = find_explode(t)\n",
    "        if exploded is not None:\n",
    "            explode(prev, next_, exploded)\n",
    "        else:\n",
    "            splitted = find_split(t)\n",
    "            if not splitted is None:\n",
    "                split(splitted)\n",
    "        if exploded is None and splitted is None:\n",
    "            break\n",
    "    return t\n",
    "\n",
    "t = build_tree([[[[[4,3],4],4],[7,[[8,4],9]]]] + [[1,1]])\n",
    "reduce(t)"
   ]
  },
  {
   "cell_type": "code",
   "execution_count": 382,
   "metadata": {
    "ExecuteTime": {
     "end_time": "2021-12-19T17:21:52.999286Z",
     "start_time": "2021-12-19T18:21:52.990790+01:00"
    },
    "collapsed": false
   },
   "outputs": [
    {
     "data": {
      "text/plain": [
       "3488"
      ]
     },
     "execution_count": 382,
     "metadata": {},
     "output_type": "execute_result"
    }
   ],
   "source": [
    "def magnitude(n):\n",
    "    if not n.value is None:\n",
    "        return n.value\n",
    "    else:\n",
    "        if not n.left is None:\n",
    "            l = magnitude(n.left)\n",
    "        if not n.right is None:\n",
    "            r = magnitude(n.right)\n",
    "        return 3 * l + 2 * r\n",
    "    \n",
    "t = build_tree([[[[8,7],[7,7]],[[8,6],[7,7]]],[[[0,7],[6,6]],[8,7]]])\n",
    "magnitude(t)"
   ]
  },
  {
   "cell_type": "code",
   "execution_count": 383,
   "metadata": {
    "ExecuteTime": {
     "end_time": "2021-12-19T17:21:53.201964Z",
     "start_time": "2021-12-19T18:21:53.197930+01:00"
    },
    "collapsed": true
   },
   "outputs": [],
   "source": [
    "def sum_tree(t1, t2):\n",
    "    n = Node(None)\n",
    "    n.left = t1\n",
    "    t1.parent = n\n",
    "    n.right = t2\n",
    "    t2.parent = n\n",
    "    return n"
   ]
  },
  {
   "cell_type": "code",
   "execution_count": 384,
   "metadata": {
    "ExecuteTime": {
     "end_time": "2021-12-19T17:21:53.794779Z",
     "start_time": "2021-12-19T18:21:53.789599+01:00"
    },
    "collapsed": false
   },
   "outputs": [],
   "source": [
    "test = \"\"\"\n",
    "[[[[4,3],4],4],[7,[[8,4],9]]]\n",
    "[1,1]\n",
    "\"\"\".strip()\n",
    "\n",
    "test = \"\"\"\n",
    "[1,1]\n",
    "[2,2]\n",
    "[3,3]\n",
    "[4,4]\n",
    "[5,5]\n",
    "[6,6]\n",
    "\"\"\".strip()\n",
    "\n",
    "test = \"\"\"\n",
    "[[[0,[4,5]],[0,0]],[[[4,5],[2,6]],[9,5]]]\n",
    "[7,[[[3,7],[4,3]],[[6,3],[8,8]]]]\n",
    "[[2,[[0,8],[3,4]]],[[[6,7],1],[7,[1,6]]]]\n",
    "[[[[2,4],7],[6,[0,5]]],[[[6,8],[2,8]],[[2,1],[4,5]]]]\n",
    "[7,[5,[[3,8],[1,4]]]]\n",
    "[[2,[2,2]],[8,[8,1]]]\n",
    "[2,9]\n",
    "[1,[[[9,3],9],[[9,0],[0,7]]]]\n",
    "[[[5,[7,4]],7],1]\n",
    "[[[[4,2],2],6],[8,7]]\n",
    "\"\"\".strip()\n",
    "\n",
    "numbers = [eval(l) for l in test.splitlines()]"
   ]
  },
  {
   "cell_type": "code",
   "execution_count": 385,
   "metadata": {
    "ExecuteTime": {
     "end_time": "2021-12-19T17:21:54.446144Z",
     "start_time": "2021-12-19T18:21:54.437907+01:00"
    },
    "collapsed": true
   },
   "outputs": [],
   "source": [
    "with open('input.txt', 'r') as f:\n",
    "    input_ = f.read()\n",
    "    \n",
    "numbers = [eval(l) for l in input_.splitlines()]"
   ]
  },
  {
   "cell_type": "code",
   "execution_count": 389,
   "metadata": {
    "ExecuteTime": {
     "end_time": "2021-12-19T17:22:14.759456Z",
     "start_time": "2021-12-19T18:22:14.247320+01:00"
    },
    "collapsed": false
   },
   "outputs": [
    {
     "data": {
      "text/plain": [
       "4116"
      ]
     },
     "execution_count": 389,
     "metadata": {},
     "output_type": "execute_result"
    }
   ],
   "source": [
    "t = build_tree(numbers[0])\n",
    "for n in numbers[1:]:\n",
    "    n = build_tree(n)\n",
    "    t = sum_tree(t, n)\n",
    "    t = reduce(t)\n",
    "magnitude(t)\n"
   ]
  },
  {
   "cell_type": "markdown",
   "metadata": {},
   "source": [
    "# Part 2"
   ]
  },
  {
   "cell_type": "code",
   "execution_count": 390,
   "metadata": {
    "ExecuteTime": {
     "end_time": "2021-12-19T17:22:39.984073Z",
     "start_time": "2021-12-19T18:22:27.445298+01:00"
    },
    "collapsed": false
   },
   "outputs": [],
   "source": [
    "numbers_conv = [build_tree(n) for n in numbers]\n",
    "\n",
    "max_t = None\n",
    "max_m = -1\n",
    "for nn1 in numbers:\n",
    "    for nn2 in numbers:\n",
    "        if nn1 is nn2:\n",
    "            continue\n",
    "\n",
    "        n1 = build_tree(nn1)\n",
    "        n2 = build_tree(nn2)\n",
    "        \n",
    "        t = sum_tree(n1, n2)\n",
    "        t = reduce(t)\n",
    "        m = magnitude(t)\n",
    "        if m > max_m:\n",
    "            max_m = m\n",
    "            max_t = t"
   ]
  },
  {
   "cell_type": "code",
   "execution_count": 391,
   "metadata": {
    "ExecuteTime": {
     "end_time": "2021-12-19T17:22:39.993314Z",
     "start_time": "2021-12-19T18:22:39.987830+01:00"
    },
    "collapsed": false
   },
   "outputs": [
    {
     "data": {
      "text/plain": [
       "4638"
      ]
     },
     "execution_count": 391,
     "metadata": {},
     "output_type": "execute_result"
    }
   ],
   "source": [
    "max_m"
   ]
  },
  {
   "cell_type": "code",
   "execution_count": null,
   "metadata": {
    "collapsed": true
   },
   "outputs": [],
   "source": []
  }
 ],
 "metadata": {
  "hide_input": false,
  "kernelspec": {
   "display_name": "Python [conda env:scratch]",
   "language": "python",
   "name": "conda-env-scratch-py"
  },
  "language_info": {
   "codemirror_mode": {
    "name": "ipython",
    "version": 3
   },
   "file_extension": ".py",
   "mimetype": "text/x-python",
   "name": "python",
   "nbconvert_exporter": "python",
   "pygments_lexer": "ipython3",
   "version": "3.5.5"
  },
  "toc": {
   "nav_menu": {
    "height": "31px",
    "width": "252px"
   },
   "navigate_menu": true,
   "number_sections": true,
   "sideBar": true,
   "threshold": 4,
   "toc_cell": false,
   "toc_section_display": "block",
   "toc_window_display": false
  }
 },
 "nbformat": 4,
 "nbformat_minor": 2
}
