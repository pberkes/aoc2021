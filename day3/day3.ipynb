{
 "cells": [
  {
   "cell_type": "code",
   "execution_count": 1,
   "metadata": {
    "ExecuteTime": {
     "end_time": "2021-12-03T06:46:21.679594Z",
     "start_time": "2021-12-03T07:46:21.281787+01:00"
    },
    "collapsed": false
   },
   "outputs": [],
   "source": [
    "import numpy as np\n",
    "import pandas as pd\n",
    "\n",
    "from IPython.display import display\n"
   ]
  },
  {
   "cell_type": "markdown",
   "metadata": {},
   "source": [
    "# Part 1"
   ]
  },
  {
   "cell_type": "code",
   "execution_count": 2,
   "metadata": {
    "ExecuteTime": {
     "end_time": "2021-12-03T06:46:21.685205Z",
     "start_time": "2021-12-03T07:46:21.681844+01:00"
    },
    "collapsed": false
   },
   "outputs": [],
   "source": [
    "test_input_ = \"\"\"\n",
    "00100\n",
    "11110\n",
    "10110\n",
    "10111\n",
    "10101\n",
    "01111\n",
    "00111\n",
    "11100\n",
    "10000\n",
    "11001\n",
    "00010\n",
    "01010\n",
    "\"\"\""
   ]
  },
  {
   "cell_type": "code",
   "execution_count": 3,
   "metadata": {
    "ExecuteTime": {
     "end_time": "2021-12-03T06:46:21.701693Z",
     "start_time": "2021-12-03T07:46:21.688291+01:00"
    },
    "collapsed": false
   },
   "outputs": [
    {
     "data": {
      "text/plain": [
       "array([[0, 0, 1, 0, 0],\n",
       "       [1, 1, 1, 1, 0],\n",
       "       [1, 0, 1, 1, 0],\n",
       "       [1, 0, 1, 1, 1],\n",
       "       [1, 0, 1, 0, 1],\n",
       "       [0, 1, 1, 1, 1],\n",
       "       [0, 0, 1, 1, 1],\n",
       "       [1, 1, 1, 0, 0],\n",
       "       [1, 0, 0, 0, 0],\n",
       "       [1, 1, 0, 0, 1],\n",
       "       [0, 0, 0, 1, 0],\n",
       "       [0, 1, 0, 1, 0]])"
      ]
     },
     "execution_count": 3,
     "metadata": {},
     "output_type": "execute_result"
    }
   ],
   "source": [
    "def parse_input(input_):\n",
    "    report = [list(line) for line in input_.strip().splitlines()]\n",
    "    return np.array(report, dtype=int)\n",
    "\n",
    "report = parse_input(test_input_)\n",
    "report"
   ]
  },
  {
   "cell_type": "code",
   "execution_count": 4,
   "metadata": {
    "ExecuteTime": {
     "end_time": "2021-12-03T06:46:21.717548Z",
     "start_time": "2021-12-03T07:46:21.704083+01:00"
    },
    "collapsed": false
   },
   "outputs": [
    {
     "data": {
      "text/plain": [
       "(22, 9, 198)"
      ]
     },
     "execution_count": 4,
     "metadata": {},
     "output_type": "execute_result"
    }
   ],
   "source": [
    "def binary_array_to_decimal(binary):\n",
    "    binary_str = ''.join(str(int(x)) for x in binary)\n",
    "    return int(binary_str, 2)\n",
    "\n",
    "def compute_gamma_rate(report):\n",
    "    is_one_most_common = (report.sum(axis=0) > (report.shape[0] / 2))\n",
    "    return binary_array_to_decimal(is_one_most_common)\n",
    "\n",
    "def compute_epsilon_rate(report):\n",
    "    is_one_least_common = ~(report.sum(axis=0) > (report.shape[0] / 2))\n",
    "    return binary_array_to_decimal(is_one_least_common)\n",
    "\n",
    "def compute_power_consumption(report):\n",
    "    return compute_gamma_rate(report) * compute_epsilon_rate(report)\n",
    "\n",
    "compute_gamma_rate(report), compute_epsilon_rate(report), compute_power_consumption(report)"
   ]
  },
  {
   "cell_type": "code",
   "execution_count": 5,
   "metadata": {
    "ExecuteTime": {
     "end_time": "2021-12-03T06:46:21.727599Z",
     "start_time": "2021-12-03T07:46:21.719861+01:00"
    },
    "collapsed": false
   },
   "outputs": [
    {
     "data": {
      "text/plain": [
       "4138664"
      ]
     },
     "execution_count": 5,
     "metadata": {},
     "output_type": "execute_result"
    }
   ],
   "source": [
    "with open('input.txt', 'r') as f:\n",
    "    input_ = f.read()\n",
    "    \n",
    "compute_power_consumption(parse_input(input_))"
   ]
  },
  {
   "cell_type": "markdown",
   "metadata": {},
   "source": [
    "# Part 2"
   ]
  },
  {
   "cell_type": "code",
   "execution_count": 6,
   "metadata": {
    "ExecuteTime": {
     "end_time": "2021-12-03T06:46:21.735704Z",
     "start_time": "2021-12-03T07:46:21.729853+01:00"
    },
    "collapsed": false
   },
   "outputs": [
    {
     "data": {
      "text/plain": [
       "array([[0, 0, 1, 0, 0],\n",
       "       [1, 1, 1, 1, 0],\n",
       "       [1, 0, 1, 1, 0],\n",
       "       [1, 0, 1, 1, 1],\n",
       "       [1, 0, 1, 0, 1],\n",
       "       [0, 1, 1, 1, 1],\n",
       "       [0, 0, 1, 1, 1],\n",
       "       [1, 1, 1, 0, 0],\n",
       "       [1, 0, 0, 0, 0],\n",
       "       [1, 1, 0, 0, 1],\n",
       "       [0, 0, 0, 1, 0],\n",
       "       [0, 1, 0, 1, 0]])"
      ]
     },
     "execution_count": 6,
     "metadata": {},
     "output_type": "execute_result"
    }
   ],
   "source": [
    "report = parse_input(test_input_)\n",
    "report"
   ]
  },
  {
   "cell_type": "code",
   "execution_count": 7,
   "metadata": {
    "ExecuteTime": {
     "end_time": "2021-12-03T06:46:21.763818Z",
     "start_time": "2021-12-03T07:46:21.738191+01:00"
    },
    "collapsed": false
   },
   "outputs": [
    {
     "data": {
      "text/plain": [
       "(23, 10, 230)"
      ]
     },
     "execution_count": 7,
     "metadata": {},
     "output_type": "execute_result"
    }
   ],
   "source": [
    "def filter_until_one_left(report, filtering_func):\n",
    "    filtered = report.copy()\n",
    "    for idx in range(report.shape[1]):\n",
    "        col = filtered[:, idx]\n",
    "        filtered = filtering_func(filtered, col)\n",
    "        if filtered.shape[0] == 1:\n",
    "            break\n",
    "\n",
    "    return filtered[0, :]\n",
    "\n",
    "def oxygen_filter(report, col):\n",
    "    most_common = int(col.sum() >= (col.shape[0] / 2))\n",
    "    return report[col == int(most_common)]\n",
    "\n",
    "def co2_filter(report, col):\n",
    "    least_common = int(col.sum() < (col.shape[0] / 2))\n",
    "    return report[col == int(least_common)]\n",
    "\n",
    "\n",
    "\n",
    "def compute_oxygen_rating(report):\n",
    "    filtered = filter_until_one_left(report, oxygen_filter)\n",
    "    return binary_array_to_decimal(filtered)\n",
    "\n",
    "def compute_co2_rating(report):\n",
    "    filtered = filter_until_one_left(report, co2_filter)\n",
    "    return binary_array_to_decimal(filtered)\n",
    "\n",
    "def compute_life_support_rating(report):\n",
    "    return compute_oxygen_rating(report) * compute_co2_rating(report)\n",
    "\n",
    "compute_oxygen_rating(report), compute_co2_rating(report), compute_life_support_rating(report)"
   ]
  },
  {
   "cell_type": "code",
   "execution_count": 8,
   "metadata": {
    "ExecuteTime": {
     "end_time": "2021-12-03T06:46:21.775166Z",
     "start_time": "2021-12-03T07:46:21.766470+01:00"
    },
    "collapsed": false
   },
   "outputs": [
    {
     "data": {
      "text/plain": [
       "4273224"
      ]
     },
     "execution_count": 8,
     "metadata": {},
     "output_type": "execute_result"
    }
   ],
   "source": [
    "compute_life_support_rating(parse_input(input_))"
   ]
  },
  {
   "cell_type": "code",
   "execution_count": null,
   "metadata": {
    "collapsed": true
   },
   "outputs": [],
   "source": []
  }
 ],
 "metadata": {
  "hide_input": false,
  "kernelspec": {
   "display_name": "Python [conda env:scratch]",
   "language": "python",
   "name": "conda-env-scratch-py"
  },
  "language_info": {
   "codemirror_mode": {
    "name": "ipython",
    "version": 3
   },
   "file_extension": ".py",
   "mimetype": "text/x-python",
   "name": "python",
   "nbconvert_exporter": "python",
   "pygments_lexer": "ipython3",
   "version": "3.5.5"
  },
  "toc": {
   "nav_menu": {
    "height": "48px",
    "width": "252px"
   },
   "navigate_menu": true,
   "number_sections": true,
   "sideBar": true,
   "threshold": 4,
   "toc_cell": false,
   "toc_section_display": "block",
   "toc_window_display": false
  }
 },
 "nbformat": 4,
 "nbformat_minor": 2
}
