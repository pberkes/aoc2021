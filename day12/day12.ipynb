{
 "cells": [
  {
   "cell_type": "code",
   "execution_count": 31,
   "metadata": {
    "ExecuteTime": {
     "end_time": "2021-12-13T09:27:43.631679Z",
     "start_time": "2021-12-13T10:27:43.624051+01:00"
    },
    "collapsed": true
   },
   "outputs": [],
   "source": [
    "test1 = \"\"\"\n",
    "start-A\n",
    "start-b\n",
    "A-c\n",
    "A-b\n",
    "b-d\n",
    "A-end\n",
    "b-end\n",
    "\"\"\"\n",
    "\n",
    "test2 = \"\"\"\n",
    "dc-end\n",
    "HN-start\n",
    "start-kj\n",
    "dc-start\n",
    "dc-HN\n",
    "LN-dc\n",
    "HN-end\n",
    "kj-sa\n",
    "kj-HN\n",
    "kj-dc\n",
    "\"\"\"\n",
    "\n",
    "test3 = \"\"\"\n",
    "fs-end\n",
    "he-DX\n",
    "fs-he\n",
    "start-DX\n",
    "pj-DX\n",
    "end-zg\n",
    "zg-sl\n",
    "zg-pj\n",
    "pj-he\n",
    "RW-he\n",
    "fs-DX\n",
    "pj-RW\n",
    "zg-RW\n",
    "start-pj\n",
    "he-WI\n",
    "zg-he\n",
    "pj-fs\n",
    "start-RW\n",
    "\"\"\"\n",
    "\n",
    "with open('input.txt', 'r') as f:\n",
    "    input_ = f.read()"
   ]
  },
  {
   "cell_type": "code",
   "execution_count": 34,
   "metadata": {
    "ExecuteTime": {
     "end_time": "2021-12-13T09:28:32.587650Z",
     "start_time": "2021-12-13T10:28:32.574967+01:00"
    },
    "collapsed": false
   },
   "outputs": [],
   "source": [
    "from collections import defaultdict\n",
    "\n",
    "def parse_input(input_):\n",
    "    edges = defaultdict(list)\n",
    "    for l in input_.strip().splitlines():\n",
    "        a, b = l.split('-')\n",
    "        edges[a].append(b)\n",
    "        if b != 'end' and a != 'start':\n",
    "            edges[b].append(a)\n",
    "    return edges\n",
    "\n",
    "edges1 = parse_input(test1)\n",
    "edges2 = parse_input(test2)\n",
    "edges3 = parse_input(test3)\n",
    "edges = parse_input(input_)"
   ]
  },
  {
   "cell_type": "markdown",
   "metadata": {},
   "source": [
    "# Part1"
   ]
  },
  {
   "cell_type": "code",
   "execution_count": 35,
   "metadata": {
    "ExecuteTime": {
     "end_time": "2021-12-13T09:28:35.683104Z",
     "start_time": "2021-12-13T10:28:35.670854+01:00"
    },
    "collapsed": false
   },
   "outputs": [],
   "source": [
    "def collect_paths(edges):\n",
    "    paths = []\n",
    "    queue = [(n, ['start']) for n in edges['start']]\n",
    "\n",
    "    while len(queue) > 0:\n",
    "        n, path = queue.pop()\n",
    "        if n == 'end':\n",
    "            path = path + ['end']\n",
    "            paths.append(path)\n",
    "            continue\n",
    "        if n.islower() and n in path:\n",
    "            continue\n",
    "        all_next = edges[n]\n",
    "        for next_ in all_next:\n",
    "            queue.append((next_, path + [n]))\n",
    "    return paths\n"
   ]
  },
  {
   "cell_type": "code",
   "execution_count": 36,
   "metadata": {
    "ExecuteTime": {
     "end_time": "2021-12-13T09:28:42.595116Z",
     "start_time": "2021-12-13T10:28:42.590514+01:00"
    },
    "collapsed": false
   },
   "outputs": [
    {
     "data": {
      "text/plain": [
       "10"
      ]
     },
     "execution_count": 36,
     "metadata": {},
     "output_type": "execute_result"
    }
   ],
   "source": [
    "len(collect_paths(edges1))"
   ]
  },
  {
   "cell_type": "code",
   "execution_count": 37,
   "metadata": {
    "ExecuteTime": {
     "end_time": "2021-12-13T09:28:47.315170Z",
     "start_time": "2021-12-13T10:28:47.310258+01:00"
    },
    "collapsed": false
   },
   "outputs": [
    {
     "data": {
      "text/plain": [
       "19"
      ]
     },
     "execution_count": 37,
     "metadata": {},
     "output_type": "execute_result"
    }
   ],
   "source": [
    "len(collect_paths(edges2))"
   ]
  },
  {
   "cell_type": "code",
   "execution_count": 38,
   "metadata": {
    "ExecuteTime": {
     "end_time": "2021-12-13T09:28:50.587654Z",
     "start_time": "2021-12-13T10:28:50.574299+01:00"
    },
    "collapsed": false
   },
   "outputs": [
    {
     "data": {
      "text/plain": [
       "226"
      ]
     },
     "execution_count": 38,
     "metadata": {},
     "output_type": "execute_result"
    }
   ],
   "source": [
    "len(collect_paths(edges3))"
   ]
  },
  {
   "cell_type": "code",
   "execution_count": 39,
   "metadata": {
    "ExecuteTime": {
     "end_time": "2021-12-13T09:28:53.477740Z",
     "start_time": "2021-12-13T10:28:53.357913+01:00"
    },
    "collapsed": false
   },
   "outputs": [
    {
     "data": {
      "text/plain": [
       "3410"
      ]
     },
     "execution_count": 39,
     "metadata": {},
     "output_type": "execute_result"
    }
   ],
   "source": [
    "len(collect_paths(edges))"
   ]
  },
  {
   "cell_type": "markdown",
   "metadata": {},
   "source": [
    "# Part 2"
   ]
  },
  {
   "cell_type": "code",
   "execution_count": 65,
   "metadata": {
    "ExecuteTime": {
     "end_time": "2021-12-13T09:36:58.591248Z",
     "start_time": "2021-12-13T10:36:58.575791+01:00"
    },
    "collapsed": true
   },
   "outputs": [],
   "source": [
    "def collect_paths(edges):\n",
    "    paths = []\n",
    "    queue = [(n, ['start'], False) for n in edges['start']]\n",
    "\n",
    "    while len(queue) > 0:\n",
    "        n, path, already_has_double = queue.pop()\n",
    "        if n == 'end':\n",
    "            path = path + ['end']\n",
    "            paths.append(path)\n",
    "            continue\n",
    "        if n.islower() and n in path:\n",
    "            if n == 'start' or already_has_double:\n",
    "                continue\n",
    "            already_has_double = True\n",
    "\n",
    "        all_next = edges[n]\n",
    "        for next_ in all_next:\n",
    "            queue.append((next_, path + [n], already_has_double))\n",
    "            \n",
    "    return paths\n"
   ]
  },
  {
   "cell_type": "code",
   "execution_count": 66,
   "metadata": {
    "ExecuteTime": {
     "end_time": "2021-12-13T09:36:59.092688Z",
     "start_time": "2021-12-13T10:36:59.087781+01:00"
    },
    "collapsed": false
   },
   "outputs": [
    {
     "data": {
      "text/plain": [
       "36"
      ]
     },
     "execution_count": 66,
     "metadata": {},
     "output_type": "execute_result"
    }
   ],
   "source": [
    "len(collect_paths(edges1))"
   ]
  },
  {
   "cell_type": "code",
   "execution_count": 68,
   "metadata": {
    "ExecuteTime": {
     "end_time": "2021-12-13T09:37:03.134731Z",
     "start_time": "2021-12-13T10:37:03.128105+01:00"
    },
    "collapsed": false
   },
   "outputs": [
    {
     "data": {
      "text/plain": [
       "103"
      ]
     },
     "execution_count": 68,
     "metadata": {},
     "output_type": "execute_result"
    }
   ],
   "source": [
    "len(collect_paths(edges2))"
   ]
  },
  {
   "cell_type": "code",
   "execution_count": 67,
   "metadata": {
    "ExecuteTime": {
     "end_time": "2021-12-13T09:37:01.966617Z",
     "start_time": "2021-12-13T10:37:01.808160+01:00"
    },
    "collapsed": false
   },
   "outputs": [
    {
     "data": {
      "text/plain": [
       "3509"
      ]
     },
     "execution_count": 67,
     "metadata": {},
     "output_type": "execute_result"
    }
   ],
   "source": [
    "len(collect_paths(edges3))"
   ]
  },
  {
   "cell_type": "code",
   "execution_count": 69,
   "metadata": {
    "ExecuteTime": {
     "end_time": "2021-12-13T09:37:12.285433Z",
     "start_time": "2021-12-13T10:37:04.871476+01:00"
    },
    "collapsed": false
   },
   "outputs": [
    {
     "data": {
      "text/plain": [
       "98796"
      ]
     },
     "execution_count": 69,
     "metadata": {},
     "output_type": "execute_result"
    }
   ],
   "source": [
    "len(collect_paths(edges))"
   ]
  },
  {
   "cell_type": "code",
   "execution_count": null,
   "metadata": {
    "collapsed": true
   },
   "outputs": [],
   "source": []
  }
 ],
 "metadata": {
  "hide_input": false,
  "kernelspec": {
   "display_name": "Python [conda env:scratch]",
   "language": "python",
   "name": "conda-env-scratch-py"
  },
  "language_info": {
   "codemirror_mode": {
    "name": "ipython",
    "version": 3
   },
   "file_extension": ".py",
   "mimetype": "text/x-python",
   "name": "python",
   "nbconvert_exporter": "python",
   "pygments_lexer": "ipython3",
   "version": "3.5.5"
  },
  "toc": {
   "nav_menu": {
    "height": "49px",
    "width": "252px"
   },
   "navigate_menu": true,
   "number_sections": true,
   "sideBar": true,
   "threshold": 4,
   "toc_cell": false,
   "toc_section_display": "block",
   "toc_window_display": false
  }
 },
 "nbformat": 4,
 "nbformat_minor": 2
}
