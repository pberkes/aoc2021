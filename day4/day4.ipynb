{
 "cells": [
  {
   "cell_type": "code",
   "execution_count": 20,
   "metadata": {
    "ExecuteTime": {
     "end_time": "2021-12-04T06:40:59.358234Z",
     "start_time": "2021-12-04T07:40:58.895213+01:00"
    },
    "collapsed": true
   },
   "outputs": [],
   "source": [
    "import io\n",
    "\n",
    "import numpy as np\n",
    "import pandas as pd"
   ]
  },
  {
   "cell_type": "code",
   "execution_count": 183,
   "metadata": {
    "ExecuteTime": {
     "end_time": "2021-12-04T07:30:39.088451Z",
     "start_time": "2021-12-04T08:30:39.030762+01:00"
    },
    "collapsed": false
   },
   "outputs": [],
   "source": [
    "class BoardSlowButSimple:\n",
    "    def __init__(self, board):\n",
    "        self.board = board\n",
    "    \n",
    "    @classmethod\n",
    "    def from_txt(class_, txt):\n",
    "        board = pd.read_csv(io.StringIO(txt), sep='\\s+', header=None, index_col=None, dtype=int)\n",
    "        return class_(board)\n",
    "    \n",
    "    def has_won(self):\n",
    "        row_won = (self.board.sum(axis=1) == -5).any()\n",
    "        col_won = (self.board.sum(axis=0) == -5).any()\n",
    "        return row_won or col_won\n",
    "    \n",
    "    def play_number(self, n):\n",
    "        self.board[self.board == n] = -1\n",
    "        if self.has_won():\n",
    "            sum_remaining = self.board.replace({-1: None}).sum().sum()\n",
    "            return int(n * sum_remaining)\n",
    "\n",
    "        \n",
    "class Board:\n",
    "    def __init__(self, board):\n",
    "        rows = {i: set() for i in board.index}\n",
    "        cols = {j: set() for j in board.columns}\n",
    "        positions = {}\n",
    "        for i in board.index:\n",
    "            for j in board.columns:\n",
    "                n = board.loc[i, j]\n",
    "                rows[i].update({n})\n",
    "                cols[j].update({n})\n",
    "                positions[n] = [i, j]\n",
    "                \n",
    "        self.rows = rows\n",
    "        self.cols = cols\n",
    "        self.positions = positions\n",
    "        self.won = False\n",
    "\n",
    "    @classmethod\n",
    "    def from_txt(class_, txt):\n",
    "        board = pd.read_csv(io.StringIO(txt), sep='\\s+', header=None, index_col=None, dtype=int)\n",
    "        return class_(board)\n",
    "    \n",
    "    def play_number(self, n):\n",
    "        pos = self.positions.get(n, None)\n",
    "        if pos is not None:\n",
    "            i, j = pos\n",
    "            self.rows[i].remove(n)\n",
    "            self.cols[j].remove(n)\n",
    "            if len(self.rows[i]) == 0:\n",
    "                self.won = True\n",
    "            if len(self.cols[j]) == 0:\n",
    "                self.won = True\n",
    "        \n",
    "        if self.won:\n",
    "            sum_remaining = 0\n",
    "            for row in self.rows.values():\n",
    "                sum_remaining += sum(row)\n",
    "            return int(n * sum_remaining)\n",
    "\n"
   ]
  },
  {
   "cell_type": "code",
   "execution_count": 184,
   "metadata": {
    "ExecuteTime": {
     "end_time": "2021-12-04T07:30:41.041350Z",
     "start_time": "2021-12-04T08:30:41.037348+01:00"
    },
    "collapsed": true
   },
   "outputs": [],
   "source": [
    "with open('test.txt', 'r') as f:\n",
    "    text = f.read()\n",
    "    \n",
    "parts = text.split('\\n\\n')\n",
    "numbers_txt = parts[0]\n",
    "boards_txt = parts[1:] "
   ]
  },
  {
   "cell_type": "code",
   "execution_count": 185,
   "metadata": {
    "ExecuteTime": {
     "end_time": "2021-12-04T07:30:41.360286Z",
     "start_time": "2021-12-04T08:30:41.341623+01:00"
    },
    "collapsed": false
   },
   "outputs": [
    {
     "data": {
      "text/plain": [
       "4512"
      ]
     },
     "execution_count": 185,
     "metadata": {},
     "output_type": "execute_result"
    }
   ],
   "source": [
    "numbers = [int(n) for n in numbers_txt.strip().split(',')]\n",
    "boards = [Board.from_txt(t) for t in parts[1:]]\n",
    "for n in numbers:\n",
    "    for board in boards:\n",
    "        result = board.play_number(n)\n",
    "        if result is not None:\n",
    "            break\n",
    "    if result is not None:\n",
    "            break\n",
    "            \n",
    "result"
   ]
  },
  {
   "cell_type": "code",
   "execution_count": 187,
   "metadata": {
    "ExecuteTime": {
     "end_time": "2021-12-04T07:30:47.962298Z",
     "start_time": "2021-12-04T08:30:47.958070+01:00"
    },
    "collapsed": false
   },
   "outputs": [],
   "source": [
    "with open('input.txt', 'r') as f:\n",
    "    text = f.read()\n",
    "    \n",
    "parts = text.split('\\n\\n')\n",
    "numbers_txt = parts[0]\n",
    "boards_txt = parts[1:]"
   ]
  },
  {
   "cell_type": "code",
   "execution_count": 188,
   "metadata": {
    "ExecuteTime": {
     "end_time": "2021-12-04T07:30:48.532999Z",
     "start_time": "2021-12-04T08:30:48.262635+01:00"
    },
    "collapsed": false
   },
   "outputs": [
    {
     "data": {
      "text/plain": [
       "82440"
      ]
     },
     "execution_count": 188,
     "metadata": {},
     "output_type": "execute_result"
    }
   ],
   "source": [
    "numbers = [int(n) for n in numbers_txt.strip().split(',')]\n",
    "boards = [Board.from_txt(t) for t in parts[1:]]\n",
    "for n in numbers:\n",
    "    for board in boards:\n",
    "        result = board.play_number(n)\n",
    "        if result is not None:\n",
    "            break\n",
    "    if result is not None:\n",
    "            break\n",
    "            \n",
    "result"
   ]
  },
  {
   "cell_type": "markdown",
   "metadata": {},
   "source": [
    "# Part 2"
   ]
  },
  {
   "cell_type": "code",
   "execution_count": 189,
   "metadata": {
    "ExecuteTime": {
     "end_time": "2021-12-04T07:30:49.955732Z",
     "start_time": "2021-12-04T08:30:49.951793+01:00"
    },
    "collapsed": true
   },
   "outputs": [],
   "source": [
    "with open('input.txt', 'r') as f:\n",
    "    text = f.read()\n",
    "    \n",
    "parts = text.split('\\n\\n')\n",
    "numbers_txt = parts[0]\n",
    "boards_txt = parts[1:] "
   ]
  },
  {
   "cell_type": "code",
   "execution_count": 190,
   "metadata": {
    "ExecuteTime": {
     "end_time": "2021-12-04T07:30:50.836801Z",
     "start_time": "2021-12-04T08:30:50.574115+01:00"
    },
    "collapsed": false
   },
   "outputs": [
    {
     "data": {
      "text/plain": [
       "20774"
      ]
     },
     "execution_count": 190,
     "metadata": {},
     "output_type": "execute_result"
    }
   ],
   "source": [
    "numbers = [int(n) for n in numbers_txt.strip().split(',')]\n",
    "boards = [Board.from_txt(t) for t in parts[1:]]\n",
    "for n in numbers:\n",
    "    for board in list(boards):\n",
    "        result = board.play_number(n)\n",
    "        if result is not None:\n",
    "            if len(boards) == 1:\n",
    "                break\n",
    "            else:\n",
    "                boards.remove(board)\n",
    "                result = None\n",
    "    if result is not None:\n",
    "            break\n",
    "result"
   ]
  },
  {
   "cell_type": "code",
   "execution_count": null,
   "metadata": {
    "collapsed": true
   },
   "outputs": [],
   "source": []
  }
 ],
 "metadata": {
  "hide_input": false,
  "kernelspec": {
   "display_name": "Python [conda env:scratch]",
   "language": "python",
   "name": "conda-env-scratch-py"
  },
  "language_info": {
   "codemirror_mode": {
    "name": "ipython",
    "version": 3
   },
   "file_extension": ".py",
   "mimetype": "text/x-python",
   "name": "python",
   "nbconvert_exporter": "python",
   "pygments_lexer": "ipython3",
   "version": "3.5.5"
  },
  "toc": {
   "nav_menu": {
    "height": "30px",
    "width": "252px"
   },
   "navigate_menu": true,
   "number_sections": true,
   "sideBar": true,
   "threshold": 4,
   "toc_cell": false,
   "toc_section_display": "block",
   "toc_window_display": false
  }
 },
 "nbformat": 4,
 "nbformat_minor": 2
}
