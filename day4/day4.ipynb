{
 "cells": [
  {
   "cell_type": "code",
   "execution_count": 20,
   "metadata": {
    "ExecuteTime": {
     "end_time": "2021-12-04T06:40:59.358234Z",
     "start_time": "2021-12-04T07:40:58.895213+01:00"
    },
    "collapsed": true
   },
   "outputs": [],
   "source": [
    "import io\n",
    "\n",
    "import numpy as np\n",
    "import pandas as pd"
   ]
  },
  {
   "cell_type": "code",
   "execution_count": 86,
   "metadata": {
    "ExecuteTime": {
     "end_time": "2021-12-04T06:55:09.178432Z",
     "start_time": "2021-12-04T07:55:09.167980+01:00"
    },
    "collapsed": false
   },
   "outputs": [],
   "source": [
    "class Board:\n",
    "    def __init__(self, board):\n",
    "        self.board = board\n",
    "    \n",
    "    @classmethod\n",
    "    def from_txt(class_, txt):\n",
    "        board = pd.read_csv(io.StringIO(txt), sep='\\s+', header=None, index_col=None, dtype=int)\n",
    "        return class_(board)\n",
    "    \n",
    "    def has_won(self):\n",
    "        row_won = (self.board.sum(axis=1) == -5).any()\n",
    "        col_won = (self.board.sum(axis=0) == -5).any()\n",
    "        return row_won or col_won\n",
    "    \n",
    "    def play_number(self, n):\n",
    "        self.board[self.board == n] = -1\n",
    "        if self.has_won():\n",
    "            sum_remaining = self.board.replace({-1: None}).sum().sum()\n",
    "            return int(n * sum_remaining)\n"
   ]
  },
  {
   "cell_type": "code",
   "execution_count": 98,
   "metadata": {
    "ExecuteTime": {
     "end_time": "2021-12-04T06:57:20.504363Z",
     "start_time": "2021-12-04T07:57:20.499279+01:00"
    },
    "collapsed": true
   },
   "outputs": [],
   "source": [
    "with open('test.txt', 'r') as f:\n",
    "    text = f.read()\n",
    "    \n",
    "parts = text.split('\\n\\n')\n",
    "numbers_txt = parts[0]\n",
    "boards_txt = parts[1:] "
   ]
  },
  {
   "cell_type": "code",
   "execution_count": 99,
   "metadata": {
    "ExecuteTime": {
     "end_time": "2021-12-04T06:57:20.775184Z",
     "start_time": "2021-12-04T07:57:20.661978+01:00"
    },
    "collapsed": false
   },
   "outputs": [
    {
     "data": {
      "text/plain": [
       "4512"
      ]
     },
     "execution_count": 99,
     "metadata": {},
     "output_type": "execute_result"
    }
   ],
   "source": [
    "numbers = [int(n) for n in numbers_txt.strip().split(',')]\n",
    "boards = [Board.from_txt(t) for t in parts[1:]]\n",
    "for n in numbers:\n",
    "    for board in boards:\n",
    "        result = board.play_number(n)\n",
    "        if result is not None:\n",
    "            break\n",
    "    if result is not None:\n",
    "            break\n",
    "            \n",
    "result"
   ]
  },
  {
   "cell_type": "code",
   "execution_count": 100,
   "metadata": {
    "ExecuteTime": {
     "end_time": "2021-12-04T06:57:22.047241Z",
     "start_time": "2021-12-04T07:57:22.042905+01:00"
    },
    "collapsed": false
   },
   "outputs": [],
   "source": [
    "with open('input.txt', 'r') as f:\n",
    "    text = f.read()\n",
    "    \n",
    "parts = text.split('\\n\\n')\n",
    "numbers_txt = parts[0]\n",
    "boards_txt = parts[1:]"
   ]
  },
  {
   "cell_type": "code",
   "execution_count": 103,
   "metadata": {
    "ExecuteTime": {
     "end_time": "2021-12-04T06:57:42.280998Z",
     "start_time": "2021-12-04T07:57:37.282377+01:00"
    },
    "collapsed": false
   },
   "outputs": [
    {
     "data": {
      "text/plain": [
       "82440"
      ]
     },
     "execution_count": 103,
     "metadata": {},
     "output_type": "execute_result"
    }
   ],
   "source": [
    "numbers = [int(n) for n in numbers_txt.strip().split(',')]\n",
    "boards = [Board.from_txt(t) for t in parts[1:]]\n",
    "for n in numbers:\n",
    "    for board in boards:\n",
    "        result = board.play_number(n)\n",
    "        if result is not None:\n",
    "            break\n",
    "    if result is not None:\n",
    "            break\n",
    "            \n",
    "result"
   ]
  },
  {
   "cell_type": "markdown",
   "metadata": {},
   "source": [
    "# Part 2"
   ]
  },
  {
   "cell_type": "code",
   "execution_count": 127,
   "metadata": {
    "ExecuteTime": {
     "end_time": "2021-12-04T07:07:28.608434Z",
     "start_time": "2021-12-04T08:07:28.603385+01:00"
    },
    "collapsed": true
   },
   "outputs": [],
   "source": [
    "with open('input.txt', 'r') as f:\n",
    "    text = f.read()\n",
    "    \n",
    "parts = text.split('\\n\\n')\n",
    "numbers_txt = parts[0]\n",
    "boards_txt = parts[1:] "
   ]
  },
  {
   "cell_type": "code",
   "execution_count": 128,
   "metadata": {
    "ExecuteTime": {
     "end_time": "2021-12-04T07:07:42.290327Z",
     "start_time": "2021-12-04T08:07:28.764806+01:00"
    },
    "collapsed": false
   },
   "outputs": [
    {
     "data": {
      "text/plain": [
       "20774"
      ]
     },
     "execution_count": 128,
     "metadata": {},
     "output_type": "execute_result"
    }
   ],
   "source": [
    "numbers = [int(n) for n in numbers_txt.strip().split(',')]\n",
    "boards = [Board.from_txt(t) for t in parts[1:]]\n",
    "for n in numbers:\n",
    "    for board in list(boards):\n",
    "        result = board.play_number(n)\n",
    "        if result is not None:\n",
    "            if len(boards) == 1:\n",
    "                break\n",
    "            else:\n",
    "                boards.remove(board)\n",
    "                result = None\n",
    "    if result is not None:\n",
    "            break\n",
    "result"
   ]
  },
  {
   "cell_type": "code",
   "execution_count": null,
   "metadata": {
    "collapsed": true
   },
   "outputs": [],
   "source": []
  }
 ],
 "metadata": {
  "hide_input": false,
  "kernelspec": {
   "display_name": "Python [conda env:scratch]",
   "language": "python",
   "name": "conda-env-scratch-py"
  },
  "language_info": {
   "codemirror_mode": {
    "name": "ipython",
    "version": 3
   },
   "file_extension": ".py",
   "mimetype": "text/x-python",
   "name": "python",
   "nbconvert_exporter": "python",
   "pygments_lexer": "ipython3",
   "version": "3.5.5"
  },
  "toc": {
   "nav_menu": {
    "height": "30px",
    "width": "252px"
   },
   "navigate_menu": true,
   "number_sections": true,
   "sideBar": true,
   "threshold": 4,
   "toc_cell": false,
   "toc_section_display": "block",
   "toc_window_display": false
  }
 },
 "nbformat": 4,
 "nbformat_minor": 2
}
