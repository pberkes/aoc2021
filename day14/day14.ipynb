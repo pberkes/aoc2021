{
 "cells": [
  {
   "cell_type": "code",
   "execution_count": 134,
   "metadata": {
    "ExecuteTime": {
     "end_time": "2021-12-14T20:52:03.011281Z",
     "start_time": "2021-12-14T15:52:02.999176-05:00"
    },
    "collapsed": false
   },
   "outputs": [],
   "source": [
    "test_input = \"\"\"\n",
    "NNCB\n",
    "\n",
    "CH -> B\n",
    "HH -> N\n",
    "CB -> H\n",
    "NH -> C\n",
    "HB -> C\n",
    "HC -> B\n",
    "HN -> C\n",
    "NN -> C\n",
    "BH -> H\n",
    "NC -> B\n",
    "NB -> B\n",
    "BN -> B\n",
    "BB -> N\n",
    "BC -> B\n",
    "CC -> N\n",
    "CN -> C\n",
    "\"\"\".strip().splitlines()\n",
    "\n",
    "with open('input.txt', 'r') as f:\n",
    "    input_ = f.read().splitlines()"
   ]
  },
  {
   "cell_type": "code",
   "execution_count": 111,
   "metadata": {
    "ExecuteTime": {
     "end_time": "2021-12-14T20:47:57.035209Z",
     "start_time": "2021-12-14T15:47:57.032189-05:00"
    },
    "collapsed": false
   },
   "outputs": [],
   "source": [
    "i = test_input\n",
    "template = i[0]\n",
    "rules = dict(l.split(' -> ') for l in i[2:])"
   ]
  },
  {
   "cell_type": "code",
   "execution_count": 112,
   "metadata": {
    "ExecuteTime": {
     "end_time": "2021-12-14T20:47:57.214189Z",
     "start_time": "2021-12-14T15:47:57.192499-05:00"
    },
    "collapsed": false
   },
   "outputs": [
    {
     "name": "stdout",
     "output_type": "stream",
     "text": [
      "0 7\n",
      "1 13\n",
      "2 25\n",
      "3 49\n",
      "4 97\n",
      "5 193\n",
      "6 385\n",
      "7 769\n",
      "8 1537\n",
      "9 3073\n"
     ]
    }
   ],
   "source": [
    "input_ = template\n",
    "for n in range(10):\n",
    "    output = [input_[0]]\n",
    "    for i in range(len(input_) - 1):\n",
    "        pair = input_[i:i+2]\n",
    "        output.extend([rules[''.join(pair)], pair[1]])\n",
    "    print(n,len(output))\n",
    "    input_ = output"
   ]
  },
  {
   "cell_type": "code",
   "execution_count": 113,
   "metadata": {
    "ExecuteTime": {
     "end_time": "2021-12-14T20:47:59.922904Z",
     "start_time": "2021-12-14T15:47:59.919808-05:00"
    },
    "collapsed": false
   },
   "outputs": [],
   "source": [
    "from collections import Counter, defaultdict\n",
    "c = Counter(output)"
   ]
  },
  {
   "cell_type": "code",
   "execution_count": 114,
   "metadata": {
    "ExecuteTime": {
     "end_time": "2021-12-14T20:48:00.080115Z",
     "start_time": "2021-12-14T15:48:00.074358-05:00"
    },
    "collapsed": false
   },
   "outputs": [
    {
     "data": {
      "text/plain": [
       "1588"
      ]
     },
     "execution_count": 114,
     "metadata": {},
     "output_type": "execute_result"
    }
   ],
   "source": [
    "c.most_common()[0][1] - c.most_common()[-1][1]"
   ]
  },
  {
   "cell_type": "markdown",
   "metadata": {},
   "source": [
    "# Part 2"
   ]
  },
  {
   "cell_type": "code",
   "execution_count": 135,
   "metadata": {
    "ExecuteTime": {
     "end_time": "2021-12-14T20:52:05.315830Z",
     "start_time": "2021-12-14T15:52:05.311173-05:00"
    },
    "collapsed": false
   },
   "outputs": [],
   "source": [
    "i = input_\n",
    "template = i[0]\n",
    "rules = dict(l.split(' -> ') for l in i[2:])"
   ]
  },
  {
   "cell_type": "code",
   "execution_count": 136,
   "metadata": {
    "ExecuteTime": {
     "end_time": "2021-12-14T20:52:06.225535Z",
     "start_time": "2021-12-14T15:52:06.222445-05:00"
    },
    "collapsed": false
   },
   "outputs": [],
   "source": [
    "pair_map = {pair: [''.join([pair[0], add]), ''.join([add, pair[1]])] for pair, add in rules.items()}"
   ]
  },
  {
   "cell_type": "code",
   "execution_count": 137,
   "metadata": {
    "ExecuteTime": {
     "end_time": "2021-12-14T20:52:09.007385Z",
     "start_time": "2021-12-14T15:52:08.991932-05:00"
    },
    "collapsed": false
   },
   "outputs": [],
   "source": [
    "prev_pairs_count = Counter([template[i:i+2] for i in range(len(template) - 1)])\n",
    "for _ in range(40):\n",
    "    next_pairs_count = defaultdict(int)\n",
    "    for pair, count in prev_pairs_count.items():\n",
    "        p1, p2 = pair_map[pair]\n",
    "        next_pairs_count[p1] += prev_pairs_count[pair]\n",
    "        next_pairs_count[p2] += prev_pairs_count[pair]\n",
    "\n",
    "    letter_count = defaultdict(int)\n",
    "    letter_count[template[0]] = 1\n",
    "    for pair, count in next_pairs_count.items():\n",
    "        letter_count[pair[1]] += count\n",
    "    #print(letter_count, sum(letter_count.values()))\n",
    "    \n",
    "    prev_pairs_count = next_pairs_count"
   ]
  },
  {
   "cell_type": "code",
   "execution_count": 139,
   "metadata": {
    "ExecuteTime": {
     "end_time": "2021-12-14T20:52:25.985878Z",
     "start_time": "2021-12-14T15:52:25.982027-05:00"
    },
    "collapsed": false
   },
   "outputs": [
    {
     "data": {
      "text/plain": [
       "defaultdict(int,\n",
       "            {'B': 2869230547200,\n",
       "             'C': 1944654986491,\n",
       "             'F': 1443759817677,\n",
       "             'H': 923041560245,\n",
       "             'K': 2580006772694,\n",
       "             'N': 903584014400,\n",
       "             'O': 2167110524956,\n",
       "             'P': 1507176001718,\n",
       "             'S': 3210873716821,\n",
       "             'V': 3341282985543})"
      ]
     },
     "execution_count": 139,
     "metadata": {},
     "output_type": "execute_result"
    }
   ],
   "source": [
    "letter_count"
   ]
  },
  {
   "cell_type": "code",
   "execution_count": 122,
   "metadata": {
    "ExecuteTime": {
     "end_time": "2021-12-14T20:48:37.178420Z",
     "start_time": "2021-12-14T15:48:37.173864-05:00"
    },
    "collapsed": false
   },
   "outputs": [
    {
     "data": {
      "text/plain": [
       "('NNCB', Counter({'CB': 1, 'NC': 1, 'NN': 1}))"
      ]
     },
     "execution_count": 122,
     "metadata": {},
     "output_type": "execute_result"
    }
   ],
   "source": [
    "template, prev_pairs_count"
   ]
  },
  {
   "cell_type": "code",
   "execution_count": 140,
   "metadata": {
    "ExecuteTime": {
     "end_time": "2021-12-14T20:52:37.609656Z",
     "start_time": "2021-12-14T15:52:37.605670-05:00"
    },
    "collapsed": false
   },
   "outputs": [
    {
     "data": {
      "text/plain": [
       "1588"
      ]
     },
     "execution_count": 140,
     "metadata": {},
     "output_type": "execute_result"
    }
   ],
   "source": []
  },
  {
   "cell_type": "code",
   "execution_count": 142,
   "metadata": {
    "ExecuteTime": {
     "end_time": "2021-12-14T20:52:58.065407Z",
     "start_time": "2021-12-14T15:52:58.060500-05:00"
    },
    "collapsed": false
   },
   "outputs": [
    {
     "data": {
      "text/plain": [
       "2437698971143"
      ]
     },
     "execution_count": 142,
     "metadata": {},
     "output_type": "execute_result"
    }
   ],
   "source": [
    "c = Counter(letter_count)\n",
    "c.most_common()[0][1] - c.most_common()[-1][1]"
   ]
  },
  {
   "cell_type": "code",
   "execution_count": null,
   "metadata": {
    "collapsed": true
   },
   "outputs": [],
   "source": []
  }
 ],
 "metadata": {
  "hide_input": false,
  "kernelspec": {
   "display_name": "Python [conda env:scratch]",
   "language": "python",
   "name": "conda-env-scratch-py"
  },
  "language_info": {
   "codemirror_mode": {
    "name": "ipython",
    "version": 3
   },
   "file_extension": ".py",
   "mimetype": "text/x-python",
   "name": "python",
   "nbconvert_exporter": "python",
   "pygments_lexer": "ipython3",
   "version": "3.5.5"
  },
  "toc": {
   "nav_menu": {
    "height": "31px",
    "width": "252px"
   },
   "navigate_menu": true,
   "number_sections": true,
   "sideBar": true,
   "threshold": 4,
   "toc_cell": false,
   "toc_section_display": "block",
   "toc_window_display": false
  }
 },
 "nbformat": 4,
 "nbformat_minor": 2
}
