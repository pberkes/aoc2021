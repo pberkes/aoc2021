{
 "cells": [
  {
   "cell_type": "code",
   "execution_count": 16,
   "metadata": {
    "ExecuteTime": {
     "end_time": "2021-12-02T06:06:16.672230Z",
     "start_time": "2021-12-02T07:06:16.669486+01:00"
    },
    "collapsed": true
   },
   "outputs": [],
   "source": [
    "import io\n",
    "\n",
    "import numpy as np\n",
    "import pandas as pd"
   ]
  },
  {
   "cell_type": "markdown",
   "metadata": {},
   "source": [
    "# Part 1"
   ]
  },
  {
   "cell_type": "code",
   "execution_count": 33,
   "metadata": {
    "ExecuteTime": {
     "end_time": "2021-12-02T06:16:41.584707Z",
     "start_time": "2021-12-02T07:16:41.581242+01:00"
    },
    "collapsed": true
   },
   "outputs": [],
   "source": [
    "movements = {\n",
    "    'forward': np.array((+1, 0)),\n",
    "    'down': np.array((0, +1)),\n",
    "    'up': np.array((0, -1)),\n",
    "}"
   ]
  },
  {
   "cell_type": "code",
   "execution_count": 34,
   "metadata": {
    "ExecuteTime": {
     "end_time": "2021-12-02T06:16:41.743638Z",
     "start_time": "2021-12-02T07:16:41.740502+01:00"
    },
    "collapsed": true
   },
   "outputs": [],
   "source": [
    "input_ = \"\"\"\n",
    "forward 5\n",
    "down 5\n",
    "forward 8\n",
    "up 3\n",
    "down 8\n",
    "forward 2\n",
    "\"\"\""
   ]
  },
  {
   "cell_type": "code",
   "execution_count": 35,
   "metadata": {
    "ExecuteTime": {
     "end_time": "2021-12-02T06:16:41.907443Z",
     "start_time": "2021-12-02T07:16:41.901780+01:00"
    },
    "collapsed": false
   },
   "outputs": [],
   "source": [
    "instructions = pd.read_csv(io.StringIO(input_), header=None, sep=' ').values.tolist()"
   ]
  },
  {
   "cell_type": "code",
   "execution_count": 36,
   "metadata": {
    "ExecuteTime": {
     "end_time": "2021-12-02T06:16:42.588758Z",
     "start_time": "2021-12-02T07:16:42.582869+01:00"
    },
    "collapsed": false
   },
   "outputs": [
    {
     "data": {
      "text/plain": [
       "array([15, 10])"
      ]
     },
     "execution_count": 36,
     "metadata": {},
     "output_type": "execute_result"
    }
   ],
   "source": [
    "def execute(instructions):\n",
    "    pos = np.array((0, 0))\n",
    "    for what, n in instructions:\n",
    "        move = movements[what]\n",
    "        pos += move * n\n",
    "\n",
    "    return pos\n",
    "\n",
    "execute(instructions)"
   ]
  },
  {
   "cell_type": "code",
   "execution_count": 37,
   "metadata": {
    "ExecuteTime": {
     "end_time": "2021-12-02T06:16:48.174202Z",
     "start_time": "2021-12-02T07:16:48.164651+01:00"
    },
    "collapsed": false
   },
   "outputs": [
    {
     "data": {
      "text/plain": [
       "array([2010, 1030])"
      ]
     },
     "execution_count": 37,
     "metadata": {},
     "output_type": "execute_result"
    }
   ],
   "source": [
    "instructions = pd.read_csv('input.txt', header=None, sep=' ').values.tolist()\n",
    "execute(instructions)"
   ]
  },
  {
   "cell_type": "code",
   "execution_count": 38,
   "metadata": {
    "ExecuteTime": {
     "end_time": "2021-12-02T06:16:52.648063Z",
     "start_time": "2021-12-02T07:16:52.644533+01:00"
    },
    "collapsed": false
   },
   "outputs": [
    {
     "data": {
      "text/plain": [
       "2070300"
      ]
     },
     "execution_count": 38,
     "metadata": {},
     "output_type": "execute_result"
    }
   ],
   "source": [
    "2010*1030"
   ]
  },
  {
   "cell_type": "markdown",
   "metadata": {},
   "source": [
    "# Part 2"
   ]
  },
  {
   "cell_type": "code",
   "execution_count": 40,
   "metadata": {
    "ExecuteTime": {
     "end_time": "2021-12-02T06:17:22.435836Z",
     "start_time": "2021-12-02T07:17:22.428804+01:00"
    },
    "collapsed": true
   },
   "outputs": [],
   "source": [
    "def down(pos, n):\n",
    "    return (pos[0], pos[1], pos[2] + n)\n",
    "\n",
    "def up(pos, n):\n",
    "    return (pos[0], pos[1], pos[2] - n)\n",
    "\n",
    "def forward(pos, n):\n",
    "    return (pos[0] + n, pos[1] + n * pos[2], pos[2])\n",
    "\n",
    "movements = {\n",
    "    'forward': forward,\n",
    "    'down': down,\n",
    "    'up': up,\n",
    "}"
   ]
  },
  {
   "cell_type": "code",
   "execution_count": 41,
   "metadata": {
    "ExecuteTime": {
     "end_time": "2021-12-02T06:17:22.601273Z",
     "start_time": "2021-12-02T07:17:22.595178+01:00"
    },
    "collapsed": true
   },
   "outputs": [],
   "source": [
    "instructions = pd.read_csv(io.StringIO(input_), header=None, sep=' ').values.tolist()"
   ]
  },
  {
   "cell_type": "code",
   "execution_count": 42,
   "metadata": {
    "ExecuteTime": {
     "end_time": "2021-12-02T06:17:22.755059Z",
     "start_time": "2021-12-02T07:17:22.748490+01:00"
    },
    "collapsed": false
   },
   "outputs": [
    {
     "data": {
      "text/plain": [
       "(15, 60, 10)"
      ]
     },
     "execution_count": 42,
     "metadata": {},
     "output_type": "execute_result"
    }
   ],
   "source": [
    "def execute(instructions):\n",
    "    pos = np.array((0, 0, 0))\n",
    "    for what, n in instructions:\n",
    "        move = movements[what]\n",
    "        pos = move(pos, n)\n",
    "\n",
    "    return pos\n",
    "\n",
    "execute(instructions)"
   ]
  },
  {
   "cell_type": "code",
   "execution_count": 43,
   "metadata": {
    "ExecuteTime": {
     "end_time": "2021-12-02T06:17:28.854026Z",
     "start_time": "2021-12-02T07:17:28.844524+01:00"
    },
    "collapsed": false
   },
   "outputs": [
    {
     "data": {
      "text/plain": [
       "(2010, 1034321, 1030)"
      ]
     },
     "execution_count": 43,
     "metadata": {},
     "output_type": "execute_result"
    }
   ],
   "source": [
    "instructions = pd.read_csv('input.txt', header=None, sep=' ').values.tolist()\n",
    "execute(instructions)"
   ]
  },
  {
   "cell_type": "code",
   "execution_count": 44,
   "metadata": {
    "ExecuteTime": {
     "end_time": "2021-12-02T06:17:31.151985Z",
     "start_time": "2021-12-02T07:17:31.148254+01:00"
    },
    "collapsed": false
   },
   "outputs": [
    {
     "data": {
      "text/plain": [
       "2078985210"
      ]
     },
     "execution_count": 44,
     "metadata": {},
     "output_type": "execute_result"
    }
   ],
   "source": [
    "2010 * 1034321"
   ]
  },
  {
   "cell_type": "code",
   "execution_count": null,
   "metadata": {
    "collapsed": true
   },
   "outputs": [],
   "source": []
  }
 ],
 "metadata": {
  "hide_input": false,
  "kernelspec": {
   "display_name": "Python [conda env:scratch]",
   "language": "python",
   "name": "conda-env-scratch-py"
  },
  "language_info": {
   "codemirror_mode": {
    "name": "ipython",
    "version": 3
   },
   "file_extension": ".py",
   "mimetype": "text/x-python",
   "name": "python",
   "nbconvert_exporter": "python",
   "pygments_lexer": "ipython3",
   "version": "3.5.5"
  },
  "toc": {
   "nav_menu": {
    "height": "49px",
    "width": "252px"
   },
   "navigate_menu": true,
   "number_sections": true,
   "sideBar": true,
   "threshold": 4,
   "toc_cell": false,
   "toc_section_display": "block",
   "toc_window_display": false
  }
 },
 "nbformat": 4,
 "nbformat_minor": 2
}
