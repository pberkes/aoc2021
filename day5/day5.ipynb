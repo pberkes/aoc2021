{
 "cells": [
  {
   "cell_type": "code",
   "execution_count": 1,
   "metadata": {
    "ExecuteTime": {
     "end_time": "2021-12-05T07:21:17.689304Z",
     "start_time": "2021-12-05T08:21:17.540949+01:00"
    },
    "collapsed": true
   },
   "outputs": [],
   "source": [
    "import numpy as np"
   ]
  },
  {
   "cell_type": "code",
   "execution_count": 8,
   "metadata": {
    "ExecuteTime": {
     "end_time": "2021-12-05T07:21:46.143007Z",
     "start_time": "2021-12-05T08:21:46.140134+01:00"
    },
    "collapsed": false
   },
   "outputs": [],
   "source": [
    "test_input = \"\"\"\n",
    "0,9 -> 5,9\n",
    "8,0 -> 0,8\n",
    "9,4 -> 3,4\n",
    "2,2 -> 2,1\n",
    "7,0 -> 7,4\n",
    "6,4 -> 2,0\n",
    "0,9 -> 2,9\n",
    "3,4 -> 1,4\n",
    "0,0 -> 8,8\n",
    "5,5 -> 8,2\n",
    "\"\"\""
   ]
  },
  {
   "cell_type": "code",
   "execution_count": 9,
   "metadata": {
    "ExecuteTime": {
     "end_time": "2021-12-05T07:21:46.305632Z",
     "start_time": "2021-12-05T08:21:46.302015+01:00"
    },
    "collapsed": false
   },
   "outputs": [],
   "source": [
    "def parse_line(line):\n",
    "    return [int(x) for x in line.replace(' -> ', ',').split(',')]\n",
    "\n",
    "# (x_start, y_start, x_end, y_end)\n",
    "lines = np.array([parse_line(line) for line in test_input.strip().split('\\n')])"
   ]
  },
  {
   "cell_type": "code",
   "execution_count": 14,
   "metadata": {
    "ExecuteTime": {
     "end_time": "2021-12-05T07:22:54.162731Z",
     "start_time": "2021-12-05T08:22:54.152528+01:00"
    },
    "collapsed": true
   },
   "outputs": [],
   "source": [
    "def draw_lines(lines):\n",
    "    field_size = lines.max() + 1\n",
    "    field = np.zeros((field_size, field_size), dtype=int)\n",
    "    for x_start, y_start, x_end, y_end in lines:\n",
    "        if x_start == x_end:\n",
    "            # vertical line\n",
    "            y_start, y_end = sorted([y_start, y_end])\n",
    "            field[y_start:y_end + 1, x_start] += 1\n",
    "        elif y_start == y_end:\n",
    "            # horizontal line\n",
    "            x_start, x_end = sorted([x_start, x_end])\n",
    "            field[y_start, x_start:x_end + 1] += 1\n",
    "        \n",
    "    return field\n",
    "\n",
    "\n",
    "def pprint_field(field):\n",
    "    f = field.astype(str)\n",
    "    f[f == '0'] = '.'\n",
    "    print('\\n'.join([''.join(l) for l in f.tolist()]))\n"
   ]
  },
  {
   "cell_type": "code",
   "execution_count": 15,
   "metadata": {
    "ExecuteTime": {
     "end_time": "2021-12-05T07:22:54.596581Z",
     "start_time": "2021-12-05T08:22:54.593228+01:00"
    },
    "collapsed": false
   },
   "outputs": [
    {
     "name": "stdout",
     "output_type": "stream",
     "text": [
      ".......1..\n",
      "..1....1..\n",
      "..1....1..\n",
      ".......1..\n",
      ".112111211\n",
      "..........\n",
      "..........\n",
      "..........\n",
      "..........\n",
      "222111....\n"
     ]
    }
   ],
   "source": [
    "field = draw_lines(lines)\n",
    "pprint_field(field)\n"
   ]
  },
  {
   "cell_type": "code",
   "execution_count": 16,
   "metadata": {
    "ExecuteTime": {
     "end_time": "2021-12-05T07:23:02.451238Z",
     "start_time": "2021-12-05T08:23:02.440731+01:00"
    },
    "collapsed": false
   },
   "outputs": [
    {
     "data": {
      "text/plain": [
       "5"
      ]
     },
     "execution_count": 16,
     "metadata": {},
     "output_type": "execute_result"
    }
   ],
   "source": [
    "(field > 1).sum()"
   ]
  },
  {
   "cell_type": "code",
   "execution_count": 17,
   "metadata": {
    "ExecuteTime": {
     "end_time": "2021-12-05T07:23:07.351551Z",
     "start_time": "2021-12-05T08:23:07.344446+01:00"
    },
    "collapsed": false
   },
   "outputs": [
    {
     "data": {
      "text/plain": [
       "(500, 4)"
      ]
     },
     "execution_count": 17,
     "metadata": {},
     "output_type": "execute_result"
    }
   ],
   "source": [
    "with open('input.txt', 'r') as f:\n",
    "    input_ = f.read()\n",
    "\n",
    "lines = np.array([parse_line(line) for line in input_.strip().split('\\n')])\n",
    "lines.shape"
   ]
  },
  {
   "cell_type": "code",
   "execution_count": 18,
   "metadata": {
    "ExecuteTime": {
     "end_time": "2021-12-05T07:23:18.396070Z",
     "start_time": "2021-12-05T08:23:18.383849+01:00"
    },
    "collapsed": false
   },
   "outputs": [
    {
     "data": {
      "text/plain": [
       "5306"
      ]
     },
     "execution_count": 18,
     "metadata": {},
     "output_type": "execute_result"
    }
   ],
   "source": [
    "field = draw_lines(lines)\n",
    "(field > 1).sum()"
   ]
  },
  {
   "cell_type": "markdown",
   "metadata": {},
   "source": [
    "# Part 2"
   ]
  },
  {
   "cell_type": "code",
   "execution_count": 19,
   "metadata": {
    "ExecuteTime": {
     "end_time": "2021-12-05T07:23:30.240116Z",
     "start_time": "2021-12-05T08:23:30.231464+01:00"
    },
    "collapsed": true
   },
   "outputs": [],
   "source": [
    "def draw_lines(lines):\n",
    "    field_size = lines.max() + 1\n",
    "    field = np.zeros((field_size, field_size), dtype=int)\n",
    "    for x_start, y_start, x_end, y_end in lines:\n",
    "        if y_end >= y_start:\n",
    "            y_step = +1\n",
    "        else:\n",
    "            y_step = -1\n",
    "\n",
    "        if x_end >= x_start:\n",
    "            x_step = +1\n",
    "        else:\n",
    "            x_step = -1\n",
    "\n",
    "        x_range = np.arange(x_start, x_end + x_step, x_step)\n",
    "        y_range = np.arange(y_start, y_end + y_step, y_step)\n",
    "        field[y_range, x_range] = field[y_range, x_range] + 1\n",
    "    return field\n"
   ]
  },
  {
   "cell_type": "code",
   "execution_count": 20,
   "metadata": {
    "ExecuteTime": {
     "end_time": "2021-12-05T07:23:46.916005Z",
     "start_time": "2021-12-05T08:23:46.910372+01:00"
    },
    "collapsed": false
   },
   "outputs": [
    {
     "name": "stdout",
     "output_type": "stream",
     "text": [
      "1.1....11.\n",
      ".111...2..\n",
      "..2.1.111.\n",
      "...1.2.2..\n",
      ".112313211\n",
      "...1.2....\n",
      "..1...1...\n",
      ".1.....1..\n",
      "1.......1.\n",
      "222111....\n"
     ]
    }
   ],
   "source": [
    "lines = np.array([parse_line(line) for line in test_input.strip().split('\\n')])\n",
    "field = draw_lines(lines)\n",
    "pprint_field(field)"
   ]
  },
  {
   "cell_type": "code",
   "execution_count": 21,
   "metadata": {
    "ExecuteTime": {
     "end_time": "2021-12-05T07:23:48.498978Z",
     "start_time": "2021-12-05T08:23:48.495285+01:00"
    },
    "collapsed": false
   },
   "outputs": [
    {
     "data": {
      "text/plain": [
       "12"
      ]
     },
     "execution_count": 21,
     "metadata": {},
     "output_type": "execute_result"
    }
   ],
   "source": [
    "(field > 1).sum()"
   ]
  },
  {
   "cell_type": "code",
   "execution_count": 24,
   "metadata": {
    "ExecuteTime": {
     "end_time": "2021-12-05T07:24:08.560841Z",
     "start_time": "2021-12-05T08:24:08.542975+01:00"
    },
    "collapsed": false
   },
   "outputs": [
    {
     "data": {
      "text/plain": [
       "17787"
      ]
     },
     "execution_count": 24,
     "metadata": {},
     "output_type": "execute_result"
    }
   ],
   "source": [
    "lines = np.array([parse_line(line) for line in input_.strip().split('\\n')])\n",
    "field = draw_lines(lines)\n",
    "(field > 1).sum()"
   ]
  },
  {
   "cell_type": "code",
   "execution_count": null,
   "metadata": {
    "collapsed": true
   },
   "outputs": [],
   "source": []
  }
 ],
 "metadata": {
  "hide_input": false,
  "kernelspec": {
   "display_name": "Python [conda env:scratch]",
   "language": "python",
   "name": "conda-env-scratch-py"
  },
  "language_info": {
   "codemirror_mode": {
    "name": "ipython",
    "version": 3
   },
   "file_extension": ".py",
   "mimetype": "text/x-python",
   "name": "python",
   "nbconvert_exporter": "python",
   "pygments_lexer": "ipython3",
   "version": "3.5.5"
  },
  "toc": {
   "nav_menu": {
    "height": "30px",
    "width": "252px"
   },
   "navigate_menu": true,
   "number_sections": true,
   "sideBar": true,
   "threshold": 4,
   "toc_cell": false,
   "toc_section_display": "block",
   "toc_window_display": false
  }
 },
 "nbformat": 4,
 "nbformat_minor": 2
}
