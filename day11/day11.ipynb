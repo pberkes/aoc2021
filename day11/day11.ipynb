{
 "cells": [
  {
   "cell_type": "code",
   "execution_count": 1,
   "metadata": {
    "ExecuteTime": {
     "end_time": "2021-12-11T07:26:14.757309Z",
     "start_time": "2021-12-11T08:26:14.651849+01:00"
    },
    "collapsed": true
   },
   "outputs": [],
   "source": [
    "import numpy as np"
   ]
  },
  {
   "cell_type": "code",
   "execution_count": 29,
   "metadata": {
    "ExecuteTime": {
     "end_time": "2021-12-11T07:37:35.702815Z",
     "start_time": "2021-12-11T08:37:35.698264+01:00"
    },
    "collapsed": true
   },
   "outputs": [],
   "source": [
    "test_input = \"\"\"\n",
    "5483143223\n",
    "2745854711\n",
    "5264556173\n",
    "6141336146\n",
    "6357385478\n",
    "4167524645\n",
    "2176841721\n",
    "6882881134\n",
    "4846848554\n",
    "5283751526\n",
    "\"\"\".strip()\n",
    "\n",
    "\n",
    "test_input_2 = \"\"\"\n",
    "11111\n",
    "19991\n",
    "19191\n",
    "19991\n",
    "11111\n",
    "\"\"\".strip()\n",
    "\n",
    "input_ = \"\"\"\n",
    "1254117228\n",
    "4416873224\n",
    "8354381553\n",
    "1372637614\n",
    "5586538553\n",
    "7213333427\n",
    "3571362825\n",
    "1681126243\n",
    "8718312138\n",
    "5254266347\n",
    "\"\"\".strip()"
   ]
  },
  {
   "cell_type": "code",
   "execution_count": 30,
   "metadata": {
    "ExecuteTime": {
     "end_time": "2021-12-11T07:37:35.903755Z",
     "start_time": "2021-12-11T08:37:35.900021+01:00"
    },
    "collapsed": false
   },
   "outputs": [],
   "source": [
    "octo_test = np.array([list(l) for l in test_input.splitlines()], dtype=int)\n",
    "octo_test_2 = np.array([list(l) for l in test_input_2.splitlines()], dtype=int)\n",
    "octo = np.array([list(l) for l in input_.splitlines()], dtype=int)"
   ]
  },
  {
   "cell_type": "markdown",
   "metadata": {},
   "source": [
    "# Part 1"
   ]
  },
  {
   "cell_type": "code",
   "execution_count": 31,
   "metadata": {
    "ExecuteTime": {
     "end_time": "2021-12-11T07:37:39.063415Z",
     "start_time": "2021-12-11T08:37:39.010191+01:00"
    },
    "collapsed": false
   },
   "outputs": [
    {
     "name": "stdout",
     "output_type": "stream",
     "text": [
      "1773\n"
     ]
    }
   ],
   "source": [
    "o = octo.copy()\n",
    "oi_max, oj_max = o.shape\n",
    "\n",
    "flashes = 0\n",
    "for i in range(100):\n",
    "    o += 1\n",
    "    nines = set(zip(*np.where(o == 10)))\n",
    "    while len(nines) > 0:\n",
    "        i, j = nines.pop()\n",
    "        i_min, i_max = np.clip(i - 1, 0, oi_max), np.clip(i + 2, 0, oi_max)\n",
    "        j_min, j_max = np.clip(j - 1, 0, oj_max), np.clip(j + 2, 0, oj_max)\n",
    "        o[i_min:i_max, j_min:j_max] += 1\n",
    "\n",
    "        new_nines = set(zip(*np.where(o == 10)))\n",
    "        nines.update(new_nines)\n",
    "\n",
    "        flashes += 1\n",
    "\n",
    "    o[o > 9] = 0\n",
    "print(flashes)\n",
    "#print(o)"
   ]
  },
  {
   "cell_type": "markdown",
   "metadata": {
    "ExecuteTime": {
     "end_time": "2021-12-11T07:43:51.574511Z",
     "start_time": "2021-12-11T08:43:51.572209+01:00"
    }
   },
   "source": [
    "# Part 2"
   ]
  },
  {
   "cell_type": "code",
   "execution_count": 35,
   "metadata": {
    "ExecuteTime": {
     "end_time": "2021-12-11T07:44:10.704480Z",
     "start_time": "2021-12-11T08:44:10.507572+01:00"
    },
    "collapsed": false
   },
   "outputs": [
    {
     "name": "stdout",
     "output_type": "stream",
     "text": [
      "494\n"
     ]
    }
   ],
   "source": [
    "o = octo.copy()\n",
    "oi_max, oj_max = o.shape\n",
    "\n",
    "n = 0\n",
    "while True:\n",
    "    o += 1\n",
    "    n += 1\n",
    "    nines = set(zip(*np.where(o == 10)))\n",
    "    while len(nines) > 0:\n",
    "        i, j = nines.pop()\n",
    "        i_min, i_max = np.clip(i - 1, 0, oi_max), np.clip(i + 2, 0, oi_max)\n",
    "        j_min, j_max = np.clip(j - 1, 0, oj_max), np.clip(j + 2, 0, oj_max)\n",
    "        o[i_min:i_max, j_min:j_max] += 1\n",
    "\n",
    "        new_nines = set(zip(*np.where(o == 10)))\n",
    "        nines.update(new_nines)\n",
    "\n",
    "    o[o > 9] = 0\n",
    "    if np.all(o == 0):\n",
    "        break\n",
    "\n",
    "print(n)"
   ]
  },
  {
   "cell_type": "code",
   "execution_count": null,
   "metadata": {
    "collapsed": true
   },
   "outputs": [],
   "source": []
  }
 ],
 "metadata": {
  "hide_input": false,
  "kernelspec": {
   "display_name": "Python [conda env:scratch]",
   "language": "python",
   "name": "conda-env-scratch-py"
  },
  "language_info": {
   "codemirror_mode": {
    "name": "ipython",
    "version": 3
   },
   "file_extension": ".py",
   "mimetype": "text/x-python",
   "name": "python",
   "nbconvert_exporter": "python",
   "pygments_lexer": "ipython3",
   "version": "3.5.5"
  },
  "toc": {
   "nav_menu": {
    "height": "49px",
    "width": "252px"
   },
   "navigate_menu": true,
   "number_sections": true,
   "sideBar": true,
   "threshold": 4,
   "toc_cell": false,
   "toc_section_display": "block",
   "toc_window_display": false
  }
 },
 "nbformat": 4,
 "nbformat_minor": 2
}
