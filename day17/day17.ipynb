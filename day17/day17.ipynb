{
 "cells": [
  {
   "cell_type": "code",
   "execution_count": null,
   "metadata": {
    "collapsed": true
   },
   "outputs": [],
   "source": [
    "test_input = 'target area: x=20..30, y=-10..-5'\n",
    "input_ = 'target area: x=155..215, y=-132..-72'"
   ]
  },
  {
   "cell_type": "code",
   "execution_count": 20,
   "metadata": {
    "ExecuteTime": {
     "end_time": "2021-12-17T06:06:14.255488Z",
     "start_time": "2021-12-17T01:06:14.244312-05:00"
    },
    "collapsed": true
   },
   "outputs": [],
   "source": [
    "def shoot(vx0, vy0):\n",
    "    x, y = 0, 0\n",
    "    vx, vy = vx0, vy0\n",
    "    max_y = y\n",
    "    is_valid = False\n",
    "    while True:\n",
    "        x += vx\n",
    "        y += vy\n",
    "        if y > max_y:\n",
    "            max_y = y\n",
    "        if vx > 0:\n",
    "            vx -= 1\n",
    "        elif vx < 0:\n",
    "            vx += 1\n",
    "        vy -= 1\n",
    "\n",
    "        if x >= x_range[0] and x <= x_range[1] and y <= y_range[0] and y >= y_range[1]:\n",
    "            is_valid = True\n",
    "            break\n",
    "        if x > x_range[1] and vx >= 0:\n",
    "            break\n",
    "        if y < y_range[1]:\n",
    "            break\n",
    "            \n",
    "    return is_valid, max_y"
   ]
  },
  {
   "cell_type": "code",
   "execution_count": 22,
   "metadata": {
    "ExecuteTime": {
     "end_time": "2021-12-17T06:06:17.763652Z",
     "start_time": "2021-12-17T01:06:17.754700-05:00"
    },
    "collapsed": false
   },
   "outputs": [
    {
     "data": {
      "text/plain": [
       "45"
      ]
     },
     "execution_count": 22,
     "metadata": {},
     "output_type": "execute_result"
    }
   ],
   "source": [
    "x_range = [20, 30]\n",
    "y_range = [-5, -10]\n",
    "\n",
    "max_max_y = 0\n",
    "for vx0 in range(1, x_range[1] // 2):\n",
    "    for vy0 in range(1, -y_range[1]):\n",
    "        is_valid, max_y = shoot(vx0, vy0)\n",
    "        if is_valid and max_y > max_max_y:\n",
    "            max_max_y = max_y\n",
    "\n",
    "max_max_y"
   ]
  },
  {
   "cell_type": "code",
   "execution_count": 23,
   "metadata": {
    "ExecuteTime": {
     "end_time": "2021-12-17T06:06:57.084576Z",
     "start_time": "2021-12-17T01:06:56.658880-05:00"
    },
    "collapsed": false
   },
   "outputs": [
    {
     "data": {
      "text/plain": [
       "8646"
      ]
     },
     "execution_count": 23,
     "metadata": {},
     "output_type": "execute_result"
    }
   ],
   "source": [
    "# 'target area: x=155..215, y=-132..-72'\n",
    "\n",
    "x_range = [155, 215]\n",
    "y_range = [-72, -132]\n",
    "\n",
    "max_max_y = 0\n",
    "for vx0 in range(1, x_range[1] // 2):\n",
    "    for vy0 in range(1, -y_range[1]):\n",
    "        is_valid, max_y = shoot(vx0, vy0)\n",
    "        if is_valid and max_y > max_max_y:\n",
    "            max_max_y = max_y\n",
    "\n",
    "max_max_y"
   ]
  },
  {
   "cell_type": "markdown",
   "metadata": {},
   "source": [
    "# Part 2"
   ]
  },
  {
   "cell_type": "code",
   "execution_count": 26,
   "metadata": {
    "ExecuteTime": {
     "end_time": "2021-12-17T06:09:13.564516Z",
     "start_time": "2021-12-17T01:09:13.548036-05:00"
    },
    "collapsed": false
   },
   "outputs": [
    {
     "data": {
      "text/plain": [
       "112"
      ]
     },
     "execution_count": 26,
     "metadata": {},
     "output_type": "execute_result"
    }
   ],
   "source": [
    "x_range = [20, 30]\n",
    "y_range = [-5, -10]\n",
    "\n",
    "max_max_y = 0\n",
    "n_valid = 0\n",
    "for vx0 in range(1, x_range[1] * 2):\n",
    "    for vy0 in range(y_range[1] * 2, -y_range[1] * 2):\n",
    "        is_valid, max_y = shoot(vx0, vy0)\n",
    "        if is_valid:\n",
    "            n_valid += 1\n",
    "\n",
    "n_valid"
   ]
  },
  {
   "cell_type": "code",
   "execution_count": 27,
   "metadata": {
    "ExecuteTime": {
     "end_time": "2021-12-17T06:09:26.597493Z",
     "start_time": "2021-12-17T01:09:24.771733-05:00"
    },
    "collapsed": false
   },
   "outputs": [
    {
     "data": {
      "text/plain": [
       "5945"
      ]
     },
     "execution_count": 27,
     "metadata": {},
     "output_type": "execute_result"
    }
   ],
   "source": [
    "x_range = [155, 215]\n",
    "y_range = [-72, -132]\n",
    "\n",
    "max_max_y = 0\n",
    "n_valid = 0\n",
    "for vx0 in range(1, x_range[1] * 2):\n",
    "    for vy0 in range(y_range[1] * 2, -y_range[1] * 2):\n",
    "        is_valid, max_y = shoot(vx0, vy0)\n",
    "        if is_valid:\n",
    "            n_valid += 1\n",
    "\n",
    "n_valid"
   ]
  },
  {
   "cell_type": "code",
   "execution_count": null,
   "metadata": {
    "collapsed": true
   },
   "outputs": [],
   "source": []
  }
 ],
 "metadata": {
  "hide_input": false,
  "kernelspec": {
   "display_name": "Python [conda env:scratch]",
   "language": "python",
   "name": "conda-env-scratch-py"
  },
  "language_info": {
   "codemirror_mode": {
    "name": "ipython",
    "version": 3
   },
   "file_extension": ".py",
   "mimetype": "text/x-python",
   "name": "python",
   "nbconvert_exporter": "python",
   "pygments_lexer": "ipython3",
   "version": "3.5.5"
  },
  "toc": {
   "nav_menu": {
    "height": "31px",
    "width": "252px"
   },
   "navigate_menu": true,
   "number_sections": true,
   "sideBar": true,
   "threshold": 4,
   "toc_cell": false,
   "toc_section_display": "block",
   "toc_window_display": false
  }
 },
 "nbformat": 4,
 "nbformat_minor": 2
}
